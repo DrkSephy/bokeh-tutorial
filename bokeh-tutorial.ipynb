{
 "cells": [
  {
   "cell_type": "code",
   "execution_count": 13,
   "metadata": {
    "collapsed": true
   },
   "outputs": [],
   "source": [
    "from bokeh.plotting import figure, output_file, show\n",
    "from bokeh.io import output_notebook"
   ]
  },
  {
   "cell_type": "code",
   "execution_count": 14,
   "metadata": {
    "collapsed": true
   },
   "outputs": [],
   "source": [
    "# prepare some data\n",
    "x = [1, 2, 3, 4, 5]\n",
    "y = [6, 7, 2, 4, 5]"
   ]
  },
  {
   "cell_type": "code",
   "execution_count": 15,
   "metadata": {
    "collapsed": false
   },
   "outputs": [
    {
     "data": {
      "text/html": [
       "\n",
       "    <div class=\"bk-banner\">\n",
       "        <a href=\"http://bokeh.pydata.org\" target=\"_blank\" class=\"bk-logo bk-logo-small bk-logo-notebook\"></a>\n",
       "        <span id=\"6f0e8348-96f0-42cd-b71b-d13cc16a5690\">Loading BokehJS ...</span>\n",
       "    </div>"
      ]
     },
     "metadata": {},
     "output_type": "display_data"
    },
    {
     "data": {
      "application/javascript": [
       "\n",
       "(function(global) {\n",
       "  function now() {\n",
       "    return new Date();\n",
       "  }\n",
       "\n",
       "  if (typeof (window._bokeh_onload_callbacks) === \"undefined\") {\n",
       "    window._bokeh_onload_callbacks = [];\n",
       "  }\n",
       "\n",
       "  function run_callbacks() {\n",
       "    window._bokeh_onload_callbacks.forEach(function(callback) { callback() });\n",
       "    delete window._bokeh_onload_callbacks\n",
       "    console.info(\"Bokeh: all callbacks have finished\");\n",
       "  }\n",
       "\n",
       "  function load_libs(js_urls, callback) {\n",
       "    window._bokeh_onload_callbacks.push(callback);\n",
       "    if (window._bokeh_is_loading > 0) {\n",
       "      console.log(\"Bokeh: BokehJS is being loaded, scheduling callback at\", now());\n",
       "      return null;\n",
       "    }\n",
       "    if (js_urls == null || js_urls.length === 0) {\n",
       "      run_callbacks();\n",
       "      return null;\n",
       "    }\n",
       "    console.log(\"Bokeh: BokehJS not loaded, scheduling load and callback at\", now());\n",
       "    window._bokeh_is_loading = js_urls.length;\n",
       "    for (var i = 0; i < js_urls.length; i++) {\n",
       "      var url = js_urls[i];\n",
       "      var s = document.createElement('script');\n",
       "      s.src = url;\n",
       "      s.async = false;\n",
       "      s.onreadystatechange = s.onload = function() {\n",
       "        window._bokeh_is_loading--;\n",
       "        if (window._bokeh_is_loading === 0) {\n",
       "          console.log(\"Bokeh: all BokehJS libraries loaded\");\n",
       "          run_callbacks()\n",
       "        }\n",
       "      };\n",
       "      s.onerror = function() {\n",
       "        console.warn(\"failed to load library \" + url);\n",
       "      };\n",
       "      console.log(\"Bokeh: injecting script tag for BokehJS library: \", url);\n",
       "      document.getElementsByTagName(\"head\")[0].appendChild(s);\n",
       "    }\n",
       "  };\n",
       "\n",
       "  var js_urls = ['https://cdn.pydata.org/bokeh/release/bokeh-0.11.1.min.js', 'https://cdn.pydata.org/bokeh/release/bokeh-widgets-0.11.1.min.js', 'https://cdn.pydata.org/bokeh/release/bokeh-compiler-0.11.1.min.js'];\n",
       "\n",
       "  var inline_js = [\n",
       "    function(Bokeh) {\n",
       "      Bokeh.set_log_level(\"info\");\n",
       "    },\n",
       "    \n",
       "    function(Bokeh) {\n",
       "      Bokeh.$(\"#6f0e8348-96f0-42cd-b71b-d13cc16a5690\").text(\"BokehJS successfully loaded\");\n",
       "    },\n",
       "    function(Bokeh) {\n",
       "      console.log(\"Bokeh: injecting CSS: https://cdn.pydata.org/bokeh/release/bokeh-0.11.1.min.css\");\n",
       "      Bokeh.embed.inject_css(\"https://cdn.pydata.org/bokeh/release/bokeh-0.11.1.min.css\");\n",
       "      console.log(\"Bokeh: injecting CSS: https://cdn.pydata.org/bokeh/release/bokeh-widgets-0.11.1.min.css\");\n",
       "      Bokeh.embed.inject_css(\"https://cdn.pydata.org/bokeh/release/bokeh-widgets-0.11.1.min.css\");\n",
       "    }\n",
       "  ];\n",
       "\n",
       "  function run_inline_js() {\n",
       "    for (var i = 0; i < inline_js.length; i++) {\n",
       "      inline_js[i](window.Bokeh);\n",
       "    }\n",
       "  }\n",
       "\n",
       "  if (window._bokeh_is_loading === 0) {\n",
       "    console.log(\"Bokeh: BokehJS loaded, going straight to plotting\");\n",
       "    run_inline_js();\n",
       "  } else {\n",
       "    load_libs(js_urls, function() {\n",
       "      console.log(\"Bokeh: BokehJS plotting callback run at\", now());\n",
       "      run_inline_js();\n",
       "    });\n",
       "  }\n",
       "}(this));"
      ]
     },
     "metadata": {},
     "output_type": "display_data"
    }
   ],
   "source": [
    "# render inline\n",
    "output_notebook()"
   ]
  },
  {
   "cell_type": "code",
   "execution_count": 16,
   "metadata": {
    "collapsed": true
   },
   "outputs": [],
   "source": [
    "# create a new plot with a title and axis labels\n",
    "p = figure(title='simple line example', x_axis_label='x', y_axis_label='y')"
   ]
  },
  {
   "cell_type": "code",
   "execution_count": 17,
   "metadata": {
    "collapsed": false
   },
   "outputs": [
    {
     "data": {
      "text/plain": [
       "<bokeh.models.renderers.GlyphRenderer at 0x10f97c510>"
      ]
     },
     "execution_count": 17,
     "metadata": {},
     "output_type": "execute_result"
    }
   ],
   "source": [
    "# add a line renderer with legend and line thickness\n",
    "p.line(x, y, legend='Temp.', line_width=2)"
   ]
  },
  {
   "cell_type": "code",
   "execution_count": 12,
   "metadata": {
    "collapsed": false
   },
   "outputs": [
    {
     "data": {
      "text/html": [
       "\n",
       "\n",
       "    <div class=\"plotdiv\" id=\"41f63d34-386c-41c1-98b4-af9ab66c7e74\"></div>\n",
       "<script type=\"text/javascript\">\n",
       "  \n",
       "  (function(global) {\n",
       "    function now() {\n",
       "      return new Date();\n",
       "    }\n",
       "  \n",
       "    if (typeof (window._bokeh_onload_callbacks) === \"undefined\") {\n",
       "      window._bokeh_onload_callbacks = [];\n",
       "    }\n",
       "  \n",
       "    function run_callbacks() {\n",
       "      window._bokeh_onload_callbacks.forEach(function(callback) { callback() });\n",
       "      delete window._bokeh_onload_callbacks\n",
       "      console.info(\"Bokeh: all callbacks have finished\");\n",
       "    }\n",
       "  \n",
       "    function load_libs(js_urls, callback) {\n",
       "      window._bokeh_onload_callbacks.push(callback);\n",
       "      if (window._bokeh_is_loading > 0) {\n",
       "        console.log(\"Bokeh: BokehJS is being loaded, scheduling callback at\", now());\n",
       "        return null;\n",
       "      }\n",
       "      if (js_urls == null || js_urls.length === 0) {\n",
       "        run_callbacks();\n",
       "        return null;\n",
       "      }\n",
       "      console.log(\"Bokeh: BokehJS not loaded, scheduling load and callback at\", now());\n",
       "      window._bokeh_is_loading = js_urls.length;\n",
       "      for (var i = 0; i < js_urls.length; i++) {\n",
       "        var url = js_urls[i];\n",
       "        var s = document.createElement('script');\n",
       "        s.src = url;\n",
       "        s.async = false;\n",
       "        s.onreadystatechange = s.onload = function() {\n",
       "          window._bokeh_is_loading--;\n",
       "          if (window._bokeh_is_loading === 0) {\n",
       "            console.log(\"Bokeh: all BokehJS libraries loaded\");\n",
       "            run_callbacks()\n",
       "          }\n",
       "        };\n",
       "        s.onerror = function() {\n",
       "          console.warn(\"failed to load library \" + url);\n",
       "        };\n",
       "        console.log(\"Bokeh: injecting script tag for BokehJS library: \", url);\n",
       "        document.getElementsByTagName(\"head\")[0].appendChild(s);\n",
       "      }\n",
       "    };var element = document.getElementById(\"41f63d34-386c-41c1-98b4-af9ab66c7e74\");\n",
       "    if (element == null) {\n",
       "      console.log(\"Bokeh: ERROR: autoload.js configured with elementid '41f63d34-386c-41c1-98b4-af9ab66c7e74' but no matching script tag was found. \")\n",
       "      return false;\n",
       "    }\n",
       "  \n",
       "    var js_urls = [];\n",
       "  \n",
       "    var inline_js = [\n",
       "      function(Bokeh) {\n",
       "        Bokeh.$(function() {\n",
       "            var docs_json = {\"3d653bfe-fa05-43f9-a3ed-b370f0d8228a\":{\"roots\":{\"references\":[{\"attributes\":{\"line_alpha\":{\"value\":0.1},\"line_color\":{\"value\":\"#1f77b4\"},\"line_width\":{\"value\":2},\"x\":{\"field\":\"x\"},\"y\":{\"field\":\"y\"}},\"id\":\"6516ccce-0712-4ff4-a7e2-1c9b6cc82a59\",\"type\":\"Line\"},{\"attributes\":{\"callback\":null},\"id\":\"d2922564-0753-4911-ba1a-d502b685556b\",\"type\":\"DataRange1d\"},{\"attributes\":{},\"id\":\"9aa15f10-d246-4b32-88b4-371eaf3fbab0\",\"type\":\"BasicTickFormatter\"},{\"attributes\":{\"bottom_units\":\"screen\",\"fill_alpha\":{\"value\":0.5},\"fill_color\":{\"value\":\"lightgrey\"},\"left_units\":\"screen\",\"level\":\"overlay\",\"line_alpha\":{\"value\":1.0},\"line_color\":{\"value\":\"black\"},\"line_dash\":[4,4],\"line_width\":{\"value\":2},\"plot\":null,\"render_mode\":\"css\",\"right_units\":\"screen\",\"top_units\":\"screen\"},\"id\":\"1b6cab34-916a-494a-adda-65b8ccced2f3\",\"type\":\"BoxAnnotation\"},{\"attributes\":{\"callback\":null,\"column_names\":[\"y\",\"x\"],\"data\":{\"x\":[1,2,3,4,5],\"y\":[6,7,2,4,5]}},\"id\":\"95d635d1-4934-41be-bc6d-7edbb2d905d2\",\"type\":\"ColumnDataSource\"},{\"attributes\":{\"line_alpha\":{\"value\":0.1},\"line_color\":{\"value\":\"#1f77b4\"},\"line_width\":{\"value\":2},\"x\":{\"field\":\"x\"},\"y\":{\"field\":\"y\"}},\"id\":\"d93def60-29a6-4006-bdc7-158c4d96aed6\",\"type\":\"Line\"},{\"attributes\":{\"data_source\":{\"id\":\"95d635d1-4934-41be-bc6d-7edbb2d905d2\",\"type\":\"ColumnDataSource\"},\"glyph\":{\"id\":\"fed92f2c-6c30-44a1-9b36-d60196d5a665\",\"type\":\"Line\"},\"hover_glyph\":null,\"nonselection_glyph\":{\"id\":\"6516ccce-0712-4ff4-a7e2-1c9b6cc82a59\",\"type\":\"Line\"},\"selection_glyph\":null},\"id\":\"dfb8b96c-fafa-4fc6-b777-90437853b2f7\",\"type\":\"GlyphRenderer\"},{\"attributes\":{\"line_color\":{\"value\":\"#1f77b4\"},\"line_width\":{\"value\":2},\"x\":{\"field\":\"x\"},\"y\":{\"field\":\"y\"}},\"id\":\"fed92f2c-6c30-44a1-9b36-d60196d5a665\",\"type\":\"Line\"},{\"attributes\":{\"line_color\":{\"value\":\"#1f77b4\"},\"line_width\":{\"value\":2},\"x\":{\"field\":\"x\"},\"y\":{\"field\":\"y\"}},\"id\":\"b5f4bc1f-684a-460c-950d-f87435ea0601\",\"type\":\"Line\"},{\"attributes\":{},\"id\":\"11f56d3e-b088-40de-9e31-b853825d4750\",\"type\":\"ToolEvents\"},{\"attributes\":{\"axis_label\":\"y\",\"formatter\":{\"id\":\"62022d58-0aab-410a-a573-9543b6fb81b2\",\"type\":\"BasicTickFormatter\"},\"plot\":{\"id\":\"a678b7a9-a041-472e-a472-de84492a3de5\",\"subtype\":\"Figure\",\"type\":\"Plot\"},\"ticker\":{\"id\":\"dd2e7876-9203-48e2-8054-970de7e65a36\",\"type\":\"BasicTicker\"}},\"id\":\"ccb4c227-1cdd-4843-bb0c-a8de8d8d185b\",\"type\":\"LinearAxis\"},{\"attributes\":{\"below\":[{\"id\":\"a47bed44-ee87-42cc-a094-2c204221d5f1\",\"type\":\"LinearAxis\"}],\"left\":[{\"id\":\"3a20a264-78b7-41a9-ab6b-e966fb900213\",\"type\":\"LinearAxis\"}],\"renderers\":[{\"id\":\"a47bed44-ee87-42cc-a094-2c204221d5f1\",\"type\":\"LinearAxis\"},{\"id\":\"2540a072-c6e8-45fa-8371-803c2530d211\",\"type\":\"Grid\"},{\"id\":\"3a20a264-78b7-41a9-ab6b-e966fb900213\",\"type\":\"LinearAxis\"},{\"id\":\"9f22b47f-6597-4bd4-8a0b-bab9c8373687\",\"type\":\"Grid\"},{\"id\":\"e29bf93f-98f9-4122-9a97-ba86e63fd53c\",\"type\":\"BoxAnnotation\"},{\"id\":\"6abea33d-909f-477b-bf8e-d03cf68e1894\",\"type\":\"Legend\"},{\"id\":\"91c306cc-c5b0-4991-87c2-5d3f3f9127a0\",\"type\":\"GlyphRenderer\"}],\"title\":\"simple line example\",\"tool_events\":{\"id\":\"11f56d3e-b088-40de-9e31-b853825d4750\",\"type\":\"ToolEvents\"},\"tools\":[{\"id\":\"0776d8be-7ace-4b79-9dad-4725091056c4\",\"type\":\"PanTool\"},{\"id\":\"4d798bfc-963f-4b97-9616-eb7492651546\",\"type\":\"WheelZoomTool\"},{\"id\":\"64acca2a-1fa0-4e8d-8a35-68d0da4a42ee\",\"type\":\"BoxZoomTool\"},{\"id\":\"8c64e6ec-3bc2-4a18-8d06-c3691c4b04d6\",\"type\":\"PreviewSaveTool\"},{\"id\":\"7eb65089-f758-4dba-ad77-71c30861fcfb\",\"type\":\"ResizeTool\"},{\"id\":\"154ef00e-6e57-4bf5-b14e-4c8d777db51c\",\"type\":\"ResetTool\"},{\"id\":\"6540dd0b-b0a8-4b43-bc73-1e6502ea5222\",\"type\":\"HelpTool\"}],\"x_range\":{\"id\":\"20ba33ab-3295-4da6-8983-b2ac385d2d9c\",\"type\":\"DataRange1d\"},\"y_range\":{\"id\":\"061c9959-3fce-4230-83e6-5ee0acb4160c\",\"type\":\"DataRange1d\"}},\"id\":\"31358c95-77f9-47a5-8572-d69f4b292899\",\"subtype\":\"Figure\",\"type\":\"Plot\"},{\"attributes\":{\"plot\":{\"id\":\"31358c95-77f9-47a5-8572-d69f4b292899\",\"subtype\":\"Figure\",\"type\":\"Plot\"}},\"id\":\"4d798bfc-963f-4b97-9616-eb7492651546\",\"type\":\"WheelZoomTool\"},{\"attributes\":{},\"id\":\"498f1afa-0a37-4888-a386-d5b999b0ef18\",\"type\":\"BasicTicker\"},{\"attributes\":{\"overlay\":{\"id\":\"1b6cab34-916a-494a-adda-65b8ccced2f3\",\"type\":\"BoxAnnotation\"},\"plot\":{\"id\":\"a678b7a9-a041-472e-a472-de84492a3de5\",\"subtype\":\"Figure\",\"type\":\"Plot\"}},\"id\":\"ea1b0ac4-681e-4e5b-b66d-239f15fa6345\",\"type\":\"BoxZoomTool\"},{\"attributes\":{\"plot\":{\"id\":\"a678b7a9-a041-472e-a472-de84492a3de5\",\"subtype\":\"Figure\",\"type\":\"Plot\"}},\"id\":\"33eb6f44-3f04-418b-b394-bcef0e9fc5b6\",\"type\":\"PreviewSaveTool\"},{\"attributes\":{\"plot\":{\"id\":\"31358c95-77f9-47a5-8572-d69f4b292899\",\"subtype\":\"Figure\",\"type\":\"Plot\"}},\"id\":\"8c64e6ec-3bc2-4a18-8d06-c3691c4b04d6\",\"type\":\"PreviewSaveTool\"},{\"attributes\":{},\"id\":\"828ed1c4-7643-4876-97ee-a9b481ad8ee5\",\"type\":\"BasicTicker\"},{\"attributes\":{\"plot\":{\"id\":\"a678b7a9-a041-472e-a472-de84492a3de5\",\"subtype\":\"Figure\",\"type\":\"Plot\"}},\"id\":\"8aae4c15-c92e-4aee-acda-66b33a831fcd\",\"type\":\"ResetTool\"},{\"attributes\":{},\"id\":\"dd2e7876-9203-48e2-8054-970de7e65a36\",\"type\":\"BasicTicker\"},{\"attributes\":{\"legends\":[[\"Temp.\",[{\"id\":\"dfb8b96c-fafa-4fc6-b777-90437853b2f7\",\"type\":\"GlyphRenderer\"}]]],\"plot\":{\"id\":\"a678b7a9-a041-472e-a472-de84492a3de5\",\"subtype\":\"Figure\",\"type\":\"Plot\"}},\"id\":\"f1feb9b2-8710-48e6-8ddc-c0edea95bb76\",\"type\":\"Legend\"},{\"attributes\":{\"plot\":{\"id\":\"31358c95-77f9-47a5-8572-d69f4b292899\",\"subtype\":\"Figure\",\"type\":\"Plot\"}},\"id\":\"6540dd0b-b0a8-4b43-bc73-1e6502ea5222\",\"type\":\"HelpTool\"},{\"attributes\":{\"bottom_units\":\"screen\",\"fill_alpha\":{\"value\":0.5},\"fill_color\":{\"value\":\"lightgrey\"},\"left_units\":\"screen\",\"level\":\"overlay\",\"line_alpha\":{\"value\":1.0},\"line_color\":{\"value\":\"black\"},\"line_dash\":[4,4],\"line_width\":{\"value\":2},\"plot\":null,\"render_mode\":\"css\",\"right_units\":\"screen\",\"top_units\":\"screen\"},\"id\":\"e29bf93f-98f9-4122-9a97-ba86e63fd53c\",\"type\":\"BoxAnnotation\"},{\"attributes\":{\"callback\":null},\"id\":\"20ba33ab-3295-4da6-8983-b2ac385d2d9c\",\"type\":\"DataRange1d\"},{\"attributes\":{\"plot\":{\"id\":\"a678b7a9-a041-472e-a472-de84492a3de5\",\"subtype\":\"Figure\",\"type\":\"Plot\"}},\"id\":\"f55925cd-ba68-4ee0-b82f-3b015f9f26c4\",\"type\":\"ResizeTool\"},{\"attributes\":{\"data_source\":{\"id\":\"a9d7b48d-87df-4cb4-b772-ec97d7f7e707\",\"type\":\"ColumnDataSource\"},\"glyph\":{\"id\":\"b5f4bc1f-684a-460c-950d-f87435ea0601\",\"type\":\"Line\"},\"hover_glyph\":null,\"nonselection_glyph\":{\"id\":\"d93def60-29a6-4006-bdc7-158c4d96aed6\",\"type\":\"Line\"},\"selection_glyph\":null},\"id\":\"91c306cc-c5b0-4991-87c2-5d3f3f9127a0\",\"type\":\"GlyphRenderer\"},{\"attributes\":{\"dimension\":1,\"plot\":{\"id\":\"31358c95-77f9-47a5-8572-d69f4b292899\",\"subtype\":\"Figure\",\"type\":\"Plot\"},\"ticker\":{\"id\":\"828ed1c4-7643-4876-97ee-a9b481ad8ee5\",\"type\":\"BasicTicker\"}},\"id\":\"9f22b47f-6597-4bd4-8a0b-bab9c8373687\",\"type\":\"Grid\"},{\"attributes\":{\"plot\":{\"id\":\"a678b7a9-a041-472e-a472-de84492a3de5\",\"subtype\":\"Figure\",\"type\":\"Plot\"},\"ticker\":{\"id\":\"a405b5aa-0cb9-4fde-bc7e-14bc3fc0a89c\",\"type\":\"BasicTicker\"}},\"id\":\"ee739af8-0325-4c6d-915b-5a0b21723ec6\",\"type\":\"Grid\"},{\"attributes\":{\"plot\":{\"id\":\"31358c95-77f9-47a5-8572-d69f4b292899\",\"subtype\":\"Figure\",\"type\":\"Plot\"},\"ticker\":{\"id\":\"498f1afa-0a37-4888-a386-d5b999b0ef18\",\"type\":\"BasicTicker\"}},\"id\":\"2540a072-c6e8-45fa-8371-803c2530d211\",\"type\":\"Grid\"},{\"attributes\":{\"callback\":null,\"column_names\":[\"y\",\"x\"],\"data\":{\"x\":[1,2,3,4,5],\"y\":[6,7,2,4,5]}},\"id\":\"a9d7b48d-87df-4cb4-b772-ec97d7f7e707\",\"type\":\"ColumnDataSource\"},{\"attributes\":{\"plot\":{\"id\":\"31358c95-77f9-47a5-8572-d69f4b292899\",\"subtype\":\"Figure\",\"type\":\"Plot\"}},\"id\":\"0776d8be-7ace-4b79-9dad-4725091056c4\",\"type\":\"PanTool\"},{\"attributes\":{\"callback\":null},\"id\":\"1c206c07-2216-41ab-9abb-1571c44f6266\",\"type\":\"DataRange1d\"},{\"attributes\":{\"dimension\":1,\"plot\":{\"id\":\"a678b7a9-a041-472e-a472-de84492a3de5\",\"subtype\":\"Figure\",\"type\":\"Plot\"},\"ticker\":{\"id\":\"dd2e7876-9203-48e2-8054-970de7e65a36\",\"type\":\"BasicTicker\"}},\"id\":\"fd050623-9ac9-423f-a354-dc44acde9854\",\"type\":\"Grid\"},{\"attributes\":{},\"id\":\"3368753d-d285-4039-a008-1b131e5cea81\",\"type\":\"BasicTickFormatter\"},{\"attributes\":{\"plot\":{\"id\":\"a678b7a9-a041-472e-a472-de84492a3de5\",\"subtype\":\"Figure\",\"type\":\"Plot\"}},\"id\":\"c6e5f92e-98d5-44d5-ab28-8718e312a564\",\"type\":\"HelpTool\"},{\"attributes\":{\"axis_label\":\"x\",\"formatter\":{\"id\":\"9aa15f10-d246-4b32-88b4-371eaf3fbab0\",\"type\":\"BasicTickFormatter\"},\"plot\":{\"id\":\"31358c95-77f9-47a5-8572-d69f4b292899\",\"subtype\":\"Figure\",\"type\":\"Plot\"},\"ticker\":{\"id\":\"498f1afa-0a37-4888-a386-d5b999b0ef18\",\"type\":\"BasicTicker\"}},\"id\":\"a47bed44-ee87-42cc-a094-2c204221d5f1\",\"type\":\"LinearAxis\"},{\"attributes\":{\"plot\":{\"id\":\"a678b7a9-a041-472e-a472-de84492a3de5\",\"subtype\":\"Figure\",\"type\":\"Plot\"}},\"id\":\"49317988-4817-458b-bf9e-4e36cd4a7b92\",\"type\":\"WheelZoomTool\"},{\"attributes\":{\"plot\":{\"id\":\"31358c95-77f9-47a5-8572-d69f4b292899\",\"subtype\":\"Figure\",\"type\":\"Plot\"}},\"id\":\"154ef00e-6e57-4bf5-b14e-4c8d777db51c\",\"type\":\"ResetTool\"},{\"attributes\":{},\"id\":\"eb43713f-49c2-4a17-af00-7be79238504c\",\"type\":\"ToolEvents\"},{\"attributes\":{\"plot\":{\"id\":\"a678b7a9-a041-472e-a472-de84492a3de5\",\"subtype\":\"Figure\",\"type\":\"Plot\"}},\"id\":\"9aa04a3a-20e9-4b14-a5cc-779f4f4ac638\",\"type\":\"PanTool\"},{\"attributes\":{\"axis_label\":\"y\",\"formatter\":{\"id\":\"3368753d-d285-4039-a008-1b131e5cea81\",\"type\":\"BasicTickFormatter\"},\"plot\":{\"id\":\"31358c95-77f9-47a5-8572-d69f4b292899\",\"subtype\":\"Figure\",\"type\":\"Plot\"},\"ticker\":{\"id\":\"828ed1c4-7643-4876-97ee-a9b481ad8ee5\",\"type\":\"BasicTicker\"}},\"id\":\"3a20a264-78b7-41a9-ab6b-e966fb900213\",\"type\":\"LinearAxis\"},{\"attributes\":{\"below\":[{\"id\":\"ede34b9a-b176-48ff-8ec8-8275cf79caf8\",\"type\":\"LinearAxis\"}],\"left\":[{\"id\":\"ccb4c227-1cdd-4843-bb0c-a8de8d8d185b\",\"type\":\"LinearAxis\"}],\"renderers\":[{\"id\":\"ede34b9a-b176-48ff-8ec8-8275cf79caf8\",\"type\":\"LinearAxis\"},{\"id\":\"ee739af8-0325-4c6d-915b-5a0b21723ec6\",\"type\":\"Grid\"},{\"id\":\"ccb4c227-1cdd-4843-bb0c-a8de8d8d185b\",\"type\":\"LinearAxis\"},{\"id\":\"fd050623-9ac9-423f-a354-dc44acde9854\",\"type\":\"Grid\"},{\"id\":\"1b6cab34-916a-494a-adda-65b8ccced2f3\",\"type\":\"BoxAnnotation\"},{\"id\":\"f1feb9b2-8710-48e6-8ddc-c0edea95bb76\",\"type\":\"Legend\"},{\"id\":\"dfb8b96c-fafa-4fc6-b777-90437853b2f7\",\"type\":\"GlyphRenderer\"}],\"title\":\"simple line example\",\"tool_events\":{\"id\":\"eb43713f-49c2-4a17-af00-7be79238504c\",\"type\":\"ToolEvents\"},\"tools\":[{\"id\":\"9aa04a3a-20e9-4b14-a5cc-779f4f4ac638\",\"type\":\"PanTool\"},{\"id\":\"49317988-4817-458b-bf9e-4e36cd4a7b92\",\"type\":\"WheelZoomTool\"},{\"id\":\"ea1b0ac4-681e-4e5b-b66d-239f15fa6345\",\"type\":\"BoxZoomTool\"},{\"id\":\"33eb6f44-3f04-418b-b394-bcef0e9fc5b6\",\"type\":\"PreviewSaveTool\"},{\"id\":\"f55925cd-ba68-4ee0-b82f-3b015f9f26c4\",\"type\":\"ResizeTool\"},{\"id\":\"8aae4c15-c92e-4aee-acda-66b33a831fcd\",\"type\":\"ResetTool\"},{\"id\":\"c6e5f92e-98d5-44d5-ab28-8718e312a564\",\"type\":\"HelpTool\"}],\"x_range\":{\"id\":\"d2922564-0753-4911-ba1a-d502b685556b\",\"type\":\"DataRange1d\"},\"y_range\":{\"id\":\"1c206c07-2216-41ab-9abb-1571c44f6266\",\"type\":\"DataRange1d\"}},\"id\":\"a678b7a9-a041-472e-a472-de84492a3de5\",\"subtype\":\"Figure\",\"type\":\"Plot\"},{\"attributes\":{\"callback\":null},\"id\":\"061c9959-3fce-4230-83e6-5ee0acb4160c\",\"type\":\"DataRange1d\"},{\"attributes\":{\"axis_label\":\"x\",\"formatter\":{\"id\":\"6bd526b2-ae66-4649-91fd-4973deb393a9\",\"type\":\"BasicTickFormatter\"},\"plot\":{\"id\":\"a678b7a9-a041-472e-a472-de84492a3de5\",\"subtype\":\"Figure\",\"type\":\"Plot\"},\"ticker\":{\"id\":\"a405b5aa-0cb9-4fde-bc7e-14bc3fc0a89c\",\"type\":\"BasicTicker\"}},\"id\":\"ede34b9a-b176-48ff-8ec8-8275cf79caf8\",\"type\":\"LinearAxis\"},{\"attributes\":{\"legends\":[[\"Temp.\",[{\"id\":\"91c306cc-c5b0-4991-87c2-5d3f3f9127a0\",\"type\":\"GlyphRenderer\"}]]],\"plot\":{\"id\":\"31358c95-77f9-47a5-8572-d69f4b292899\",\"subtype\":\"Figure\",\"type\":\"Plot\"}},\"id\":\"6abea33d-909f-477b-bf8e-d03cf68e1894\",\"type\":\"Legend\"},{\"attributes\":{},\"id\":\"62022d58-0aab-410a-a573-9543b6fb81b2\",\"type\":\"BasicTickFormatter\"},{\"attributes\":{},\"id\":\"6bd526b2-ae66-4649-91fd-4973deb393a9\",\"type\":\"BasicTickFormatter\"},{\"attributes\":{\"plot\":{\"id\":\"31358c95-77f9-47a5-8572-d69f4b292899\",\"subtype\":\"Figure\",\"type\":\"Plot\"}},\"id\":\"7eb65089-f758-4dba-ad77-71c30861fcfb\",\"type\":\"ResizeTool\"},{\"attributes\":{},\"id\":\"a405b5aa-0cb9-4fde-bc7e-14bc3fc0a89c\",\"type\":\"BasicTicker\"},{\"attributes\":{\"overlay\":{\"id\":\"e29bf93f-98f9-4122-9a97-ba86e63fd53c\",\"type\":\"BoxAnnotation\"},\"plot\":{\"id\":\"31358c95-77f9-47a5-8572-d69f4b292899\",\"subtype\":\"Figure\",\"type\":\"Plot\"}},\"id\":\"64acca2a-1fa0-4e8d-8a35-68d0da4a42ee\",\"type\":\"BoxZoomTool\"}],\"root_ids\":[\"a678b7a9-a041-472e-a472-de84492a3de5\",\"31358c95-77f9-47a5-8572-d69f4b292899\"]},\"title\":\"Bokeh Application\",\"version\":\"0.11.1\"}};\n",
       "            var render_items = [{\"docid\":\"3d653bfe-fa05-43f9-a3ed-b370f0d8228a\",\"elementid\":\"41f63d34-386c-41c1-98b4-af9ab66c7e74\",\"modelid\":\"31358c95-77f9-47a5-8572-d69f4b292899\",\"notebook_comms_target\":\"7952461c-f9da-4e8d-b2ba-494499005fa5\"}];\n",
       "            \n",
       "            Bokeh.embed.embed_items(docs_json, render_items);\n",
       "        });\n",
       "      },\n",
       "      function(Bokeh) {\n",
       "      }\n",
       "    ];\n",
       "  \n",
       "    function run_inline_js() {\n",
       "      for (var i = 0; i < inline_js.length; i++) {\n",
       "        inline_js[i](window.Bokeh);\n",
       "      }\n",
       "    }\n",
       "  \n",
       "    if (window._bokeh_is_loading === 0) {\n",
       "      console.log(\"Bokeh: BokehJS loaded, going straight to plotting\");\n",
       "      run_inline_js();\n",
       "    } else {\n",
       "      load_libs(js_urls, function() {\n",
       "        console.log(\"Bokeh: BokehJS plotting callback run at\", now());\n",
       "        run_inline_js();\n",
       "      });\n",
       "    }\n",
       "  }(this));\n",
       "</script>"
      ]
     },
     "metadata": {},
     "output_type": "display_data"
    },
    {
     "data": {
      "text/html": [
       "<p><code>&lt;Bokeh Notebook handle for <strong>In[12]</strong>&gt;</code></p>"
      ],
      "text/plain": [
       "<bokeh.io._CommsHandle at 0x10f923e10>"
      ]
     },
     "execution_count": 12,
     "metadata": {},
     "output_type": "execute_result"
    }
   ],
   "source": [
    "# show the results\n",
    "show(p)"
   ]
  },
  {
   "cell_type": "code",
   "execution_count": null,
   "metadata": {
    "collapsed": true
   },
   "outputs": [],
   "source": []
  }
 ],
 "metadata": {
  "kernelspec": {
   "display_name": "Python 2",
   "language": "python",
   "name": "python2"
  },
  "language_info": {
   "codemirror_mode": {
    "name": "ipython",
    "version": 2
   },
   "file_extension": ".py",
   "mimetype": "text/x-python",
   "name": "python",
   "nbconvert_exporter": "python",
   "pygments_lexer": "ipython2",
   "version": "2.7.9"
  }
 },
 "nbformat": 4,
 "nbformat_minor": 0
}
