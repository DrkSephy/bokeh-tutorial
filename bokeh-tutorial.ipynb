{
 "cells": [
  {
   "cell_type": "markdown",
   "metadata": {},
   "source": [
    "# Bokeh Tutorial\n",
    "\n",
    "Author: [David Leonard](https://github.com/DrkSephy) (DrkSephy1025@gmail.com)\n",
    "\n",
    "This notebook may be found in it's entirety at: https://github.com/DrkSephy/bokeh-tutorial"
   ]
  },
  {
   "cell_type": "markdown",
   "metadata": {},
   "source": [
    "In this tutorial, we will explore the basics of Bokeh - ranging from simple plots to more complex figures. We'll be using Pandas to load and operate on a [dataset](http://archive.ics.uci.edu/ml/datasets/Poker+Hand) containing Poker Hands and their distributions."
   ]
  },
  {
   "cell_type": "code",
   "execution_count": 1,
   "metadata": {
    "collapsed": true
   },
   "outputs": [],
   "source": [
    "# We use pandas to parse our CSV file\n",
    "import pandas\n",
    "\n",
    "# Display Bokeh graphs inline\n",
    "from bokeh.io import output_notebook"
   ]
  },
  {
   "cell_type": "code",
   "execution_count": 2,
   "metadata": {
    "collapsed": false
   },
   "outputs": [
    {
     "data": {
      "text/html": [
       "\n",
       "    <div class=\"bk-banner\">\n",
       "        <a href=\"http://bokeh.pydata.org\" target=\"_blank\" class=\"bk-logo bk-logo-small bk-logo-notebook\"></a>\n",
       "        <span id=\"371383b4-3f2d-4f55-ae78-f9740c63af71\">Loading BokehJS ...</span>\n",
       "    </div>"
      ]
     },
     "metadata": {},
     "output_type": "display_data"
    },
    {
     "data": {
      "application/javascript": [
       "\n",
       "(function(global) {\n",
       "  function now() {\n",
       "    return new Date();\n",
       "  }\n",
       "\n",
       "  if (typeof (window._bokeh_onload_callbacks) === \"undefined\") {\n",
       "    window._bokeh_onload_callbacks = [];\n",
       "  }\n",
       "\n",
       "  function run_callbacks() {\n",
       "    window._bokeh_onload_callbacks.forEach(function(callback) { callback() });\n",
       "    delete window._bokeh_onload_callbacks\n",
       "    console.info(\"Bokeh: all callbacks have finished\");\n",
       "  }\n",
       "\n",
       "  function load_libs(js_urls, callback) {\n",
       "    window._bokeh_onload_callbacks.push(callback);\n",
       "    if (window._bokeh_is_loading > 0) {\n",
       "      console.log(\"Bokeh: BokehJS is being loaded, scheduling callback at\", now());\n",
       "      return null;\n",
       "    }\n",
       "    if (js_urls == null || js_urls.length === 0) {\n",
       "      run_callbacks();\n",
       "      return null;\n",
       "    }\n",
       "    console.log(\"Bokeh: BokehJS not loaded, scheduling load and callback at\", now());\n",
       "    window._bokeh_is_loading = js_urls.length;\n",
       "    for (var i = 0; i < js_urls.length; i++) {\n",
       "      var url = js_urls[i];\n",
       "      var s = document.createElement('script');\n",
       "      s.src = url;\n",
       "      s.async = false;\n",
       "      s.onreadystatechange = s.onload = function() {\n",
       "        window._bokeh_is_loading--;\n",
       "        if (window._bokeh_is_loading === 0) {\n",
       "          console.log(\"Bokeh: all BokehJS libraries loaded\");\n",
       "          run_callbacks()\n",
       "        }\n",
       "      };\n",
       "      s.onerror = function() {\n",
       "        console.warn(\"failed to load library \" + url);\n",
       "      };\n",
       "      console.log(\"Bokeh: injecting script tag for BokehJS library: \", url);\n",
       "      document.getElementsByTagName(\"head\")[0].appendChild(s);\n",
       "    }\n",
       "  };\n",
       "\n",
       "  var js_urls = ['https://cdn.pydata.org/bokeh/release/bokeh-0.11.1.min.js', 'https://cdn.pydata.org/bokeh/release/bokeh-widgets-0.11.1.min.js', 'https://cdn.pydata.org/bokeh/release/bokeh-compiler-0.11.1.min.js'];\n",
       "\n",
       "  var inline_js = [\n",
       "    function(Bokeh) {\n",
       "      Bokeh.set_log_level(\"info\");\n",
       "    },\n",
       "    \n",
       "    function(Bokeh) {\n",
       "      Bokeh.$(\"#371383b4-3f2d-4f55-ae78-f9740c63af71\").text(\"BokehJS successfully loaded\");\n",
       "    },\n",
       "    function(Bokeh) {\n",
       "      console.log(\"Bokeh: injecting CSS: https://cdn.pydata.org/bokeh/release/bokeh-0.11.1.min.css\");\n",
       "      Bokeh.embed.inject_css(\"https://cdn.pydata.org/bokeh/release/bokeh-0.11.1.min.css\");\n",
       "      console.log(\"Bokeh: injecting CSS: https://cdn.pydata.org/bokeh/release/bokeh-widgets-0.11.1.min.css\");\n",
       "      Bokeh.embed.inject_css(\"https://cdn.pydata.org/bokeh/release/bokeh-widgets-0.11.1.min.css\");\n",
       "    }\n",
       "  ];\n",
       "\n",
       "  function run_inline_js() {\n",
       "    for (var i = 0; i < inline_js.length; i++) {\n",
       "      inline_js[i](window.Bokeh);\n",
       "    }\n",
       "  }\n",
       "\n",
       "  if (window._bokeh_is_loading === 0) {\n",
       "    console.log(\"Bokeh: BokehJS loaded, going straight to plotting\");\n",
       "    run_inline_js();\n",
       "  } else {\n",
       "    load_libs(js_urls, function() {\n",
       "      console.log(\"Bokeh: BokehJS plotting callback run at\", now());\n",
       "      run_inline_js();\n",
       "    });\n",
       "  }\n",
       "}(this));"
      ]
     },
     "metadata": {},
     "output_type": "display_data"
    }
   ],
   "source": [
    "# render inline\n",
    "output_notebook()"
   ]
  },
  {
   "cell_type": "markdown",
   "metadata": {},
   "source": [
    "The original dataset consists of a CSV (Comma Separates Values) with various attributes pertaining to each of the five cards in the hand, as well as their suits and the hand strength. Unfortuntely, the dataset does not have column names, so we begin by adding these in programmatically. "
   ]
  },
  {
   "cell_type": "code",
   "execution_count": 3,
   "metadata": {
    "collapsed": false
   },
   "outputs": [
    {
     "name": "stderr",
     "output_type": "stream",
     "text": [
      "/Users/DrkSephy/.virtualenvs/viz-tutorial/lib/python2.7/site-packages/IPython/core/interactiveshell.py:2723: DtypeWarning: Columns (0,1,2,3,4,5,6,7,8,9,10) have mixed types. Specify dtype option on import or set low_memory=False.\n",
      "  interactivity=interactivity, compiler=compiler, result=result)\n"
     ]
    },
    {
     "data": {
      "text/plain": [
       "' CLASS'"
      ]
     },
     "execution_count": 3,
     "metadata": {},
     "output_type": "execute_result"
    }
   ],
   "source": [
    "# Column names from our CSV\n",
    "colNames = ['S1', 'C1', 'S2', 'C2', 'S3', 'C3', 'S4', 'C4', 'S5', 'C5', 'CLASS']\n",
    "\n",
    "# Read CSV file using pandas\n",
    "data = pandas.read_csv('data.csv', names=colNames)\n",
    "\n",
    "# Extract all data from the CLASS column\n",
    "hands = data.CLASS.tolist()\n",
    "\n",
    "# Remove the first element \n",
    "hands.pop(0)"
   ]
  },
  {
   "cell_type": "markdown",
   "metadata": {},
   "source": [
    "For our first visualization, we would like to show the distributions of winning poker hands across the dataset (consisting of 1,000,000 entries). To extract this data, we parse the last column called `CLASS`, which is the strength of the corresponding Poker Hand (annotated below)."
   ]
  },
  {
   "cell_type": "code",
   "execution_count": 4,
   "metadata": {
    "collapsed": true
   },
   "outputs": [],
   "source": [
    "# Count occurances of each class\n",
    "classZero   = hands.count('0') # Nothing in hand\n",
    "classOne    = hands.count('1') # One pair\n",
    "classTwo    = hands.count('2') # Two pair\n",
    "classThree  = hands.count('3') # Three of a kind\n",
    "classFour   = hands.count('4') # Straight\n",
    "classFive   = hands.count('5') # Flush\n",
    "classSix    = hands.count('6') # Full House\n",
    "classSeven  = hands.count('7') # Four of a kind\n",
    "classEight  = hands.count('8') # Straight Flush\n",
    "classNine   = hands.count('9') # Royal Flush"
   ]
  },
  {
   "cell_type": "markdown",
   "metadata": {},
   "source": [
    "Next, we assemble an array of the occurances of each poker hand. This will be used to generate the x-axis points for our first visualization."
   ]
  },
  {
   "cell_type": "code",
   "execution_count": 5,
   "metadata": {
    "collapsed": false
   },
   "outputs": [],
   "source": [
    "# Bundle the dataset - all of the counts of each class\n",
    "dataset = [classZero, classOne, classTwo, classThree, classFour, classFive, classSix, classSeven, classEight, classNine]"
   ]
  },
  {
   "cell_type": "code",
   "execution_count": 6,
   "metadata": {
    "collapsed": false
   },
   "outputs": [],
   "source": [
    "# Import functions for creating figures and showing them inline\n",
    "from bokeh.plotting import figure, show\n",
    "\n",
    "# Ranges function is used for generating the y-axis\n",
    "from bokeh.models.ranges import Range1d\n",
    "\n",
    "# Used for converting arrays to numpy arrays\n",
    "import numpy"
   ]
  },
  {
   "cell_type": "markdown",
   "metadata": {},
   "source": [
    "Similar to [Matplotlib](http://matplotlib.org/), Bokeh supports a generic `Figure` class which allows us to build a figure from the ground up by specifying pieces through [renderers](http://bokeh.pydata.org/en/0.10.0/docs/reference/models/renderers.html) and [glyphs](http://bokeh.pydata.org/en/0.10.0/docs/user_guide/plotting.html), to name a few. We'll be constructing a combination of a bar chart and line plot using the `Figure` class."
   ]
  },
  {
   "cell_type": "code",
   "execution_count": 7,
   "metadata": {
    "collapsed": true
   },
   "outputs": [],
   "source": [
    "# Create a figure object\n",
    "p = figure(plot_width=1000, plot_height=400)"
   ]
  },
  {
   "cell_type": "code",
   "execution_count": 8,
   "metadata": {
    "collapsed": true
   },
   "outputs": [],
   "source": [
    "# set the bar values - the heights are the sums of occurances of each winning poker hand\n",
    "h = numpy.array(dataset)\n",
    "\n",
    "# Correcting the bottom position of the bars to be on the 0 line\n",
    "adj_h = h/2"
   ]
  },
  {
   "cell_type": "code",
   "execution_count": 9,
   "metadata": {
    "collapsed": false
   },
   "outputs": [
    {
     "data": {
      "text/plain": [
       "<bokeh.models.renderers.GlyphRenderer at 0x1022b9410>"
      ]
     },
     "execution_count": 9,
     "metadata": {},
     "output_type": "execute_result"
    }
   ],
   "source": [
    "# add bar renderer\n",
    "p.rect(x=[0, 1, 2, 3, 4, 5, 6, 7, 8, 9], y=adj_h, width=0.4, height=h, color=\"#CAB2D6\")"
   ]
  },
  {
   "cell_type": "code",
   "execution_count": 10,
   "metadata": {
    "collapsed": false
   },
   "outputs": [
    {
     "data": {
      "text/plain": [
       "<bokeh.models.renderers.GlyphRenderer at 0x1068e3890>"
      ]
     },
     "execution_count": 10,
     "metadata": {},
     "output_type": "execute_result"
    }
   ],
   "source": [
    "# add a line renderer\n",
    "p.line([0, 1, 2, 3, 4, 5, 6, 7, 8, 9], dataset, line_width=2)"
   ]
  },
  {
   "cell_type": "code",
   "execution_count": 11,
   "metadata": {
    "collapsed": false
   },
   "outputs": [
    {
     "data": {
      "text/plain": [
       "<bokeh.models.renderers.GlyphRenderer at 0x1068e3b90>"
      ]
     },
     "execution_count": 11,
     "metadata": {},
     "output_type": "execute_result"
    }
   ],
   "source": [
    "# Add circles to our points on the line\n",
    "p.circle([0, 1, 2, 3, 4, 5, 6, 7, 8, 9], dataset, fill_color=\"white\", size=8)"
   ]
  },
  {
   "cell_type": "code",
   "execution_count": 12,
   "metadata": {
    "collapsed": true
   },
   "outputs": [],
   "source": [
    "# Setting the y  axis range   \n",
    "p.y_range = Range1d(0, max(dataset))"
   ]
  },
  {
   "cell_type": "code",
   "execution_count": 13,
   "metadata": {
    "collapsed": true
   },
   "outputs": [],
   "source": [
    "# Set the title of the graph\n",
    "p.title = \"Distribution of Poker Hands\""
   ]
  },
  {
   "cell_type": "code",
   "execution_count": 14,
   "metadata": {
    "collapsed": true
   },
   "outputs": [],
   "source": [
    "# Set the x-axis label\n",
    "p.xaxis.axis_label = 'Winning Poker Hand Class'"
   ]
  },
  {
   "cell_type": "code",
   "execution_count": 15,
   "metadata": {
    "collapsed": true
   },
   "outputs": [],
   "source": [
    "# Set the y-axis label\n",
    "p.yaxis.axis_label = 'Frequency'"
   ]
  },
  {
   "cell_type": "code",
   "execution_count": 16,
   "metadata": {
    "collapsed": false
   },
   "outputs": [
    {
     "data": {
      "text/html": [
       "\n",
       "\n",
       "    <div class=\"plotdiv\" id=\"e1534c80-209f-4d8e-89d4-934b94c3fb2a\"></div>\n",
       "<script type=\"text/javascript\">\n",
       "  \n",
       "  (function(global) {\n",
       "    function now() {\n",
       "      return new Date();\n",
       "    }\n",
       "  \n",
       "    if (typeof (window._bokeh_onload_callbacks) === \"undefined\") {\n",
       "      window._bokeh_onload_callbacks = [];\n",
       "    }\n",
       "  \n",
       "    function run_callbacks() {\n",
       "      window._bokeh_onload_callbacks.forEach(function(callback) { callback() });\n",
       "      delete window._bokeh_onload_callbacks\n",
       "      console.info(\"Bokeh: all callbacks have finished\");\n",
       "    }\n",
       "  \n",
       "    function load_libs(js_urls, callback) {\n",
       "      window._bokeh_onload_callbacks.push(callback);\n",
       "      if (window._bokeh_is_loading > 0) {\n",
       "        console.log(\"Bokeh: BokehJS is being loaded, scheduling callback at\", now());\n",
       "        return null;\n",
       "      }\n",
       "      if (js_urls == null || js_urls.length === 0) {\n",
       "        run_callbacks();\n",
       "        return null;\n",
       "      }\n",
       "      console.log(\"Bokeh: BokehJS not loaded, scheduling load and callback at\", now());\n",
       "      window._bokeh_is_loading = js_urls.length;\n",
       "      for (var i = 0; i < js_urls.length; i++) {\n",
       "        var url = js_urls[i];\n",
       "        var s = document.createElement('script');\n",
       "        s.src = url;\n",
       "        s.async = false;\n",
       "        s.onreadystatechange = s.onload = function() {\n",
       "          window._bokeh_is_loading--;\n",
       "          if (window._bokeh_is_loading === 0) {\n",
       "            console.log(\"Bokeh: all BokehJS libraries loaded\");\n",
       "            run_callbacks()\n",
       "          }\n",
       "        };\n",
       "        s.onerror = function() {\n",
       "          console.warn(\"failed to load library \" + url);\n",
       "        };\n",
       "        console.log(\"Bokeh: injecting script tag for BokehJS library: \", url);\n",
       "        document.getElementsByTagName(\"head\")[0].appendChild(s);\n",
       "      }\n",
       "    };var element = document.getElementById(\"e1534c80-209f-4d8e-89d4-934b94c3fb2a\");\n",
       "    if (element == null) {\n",
       "      console.log(\"Bokeh: ERROR: autoload.js configured with elementid 'e1534c80-209f-4d8e-89d4-934b94c3fb2a' but no matching script tag was found. \")\n",
       "      return false;\n",
       "    }\n",
       "  \n",
       "    var js_urls = [];\n",
       "  \n",
       "    var inline_js = [\n",
       "      function(Bokeh) {\n",
       "        Bokeh.$(function() {\n",
       "            var docs_json = {\"a2e01f67-1124-48a6-aa24-123485df7e64\":{\"roots\":{\"references\":[{\"attributes\":{\"callback\":null,\"column_names\":[\"y\",\"x\"],\"data\":{\"x\":[0,1,2,3,4,5,6,7,8,9],\"y\":[32909,27530,3195,1405,264,114,100,16,1,1]}},\"id\":\"efff05a8-855b-43d8-9a22-f502750cc46a\",\"type\":\"ColumnDataSource\"},{\"attributes\":{\"axis_label\":\"Winning Poker Hand Class\",\"formatter\":{\"id\":\"381e0e8b-31e0-4e26-a051-96b2857922b1\",\"type\":\"BasicTickFormatter\"},\"plot\":{\"id\":\"6e09026e-4b09-4b34-9efc-54416e6979c5\",\"subtype\":\"Figure\",\"type\":\"Plot\"},\"ticker\":{\"id\":\"6735c4bd-522f-4b87-a4f5-7081a679ed32\",\"type\":\"BasicTicker\"}},\"id\":\"511442a4-007d-41a5-b18a-badd4e3fb4b0\",\"type\":\"LinearAxis\"},{\"attributes\":{\"data_source\":{\"id\":\"fc16790a-22ac-407f-a94b-a82432d6f0b5\",\"type\":\"ColumnDataSource\"},\"glyph\":{\"id\":\"783fc1eb-e5ba-4ade-9cb8-e380e48d5288\",\"type\":\"Circle\"},\"hover_glyph\":null,\"nonselection_glyph\":{\"id\":\"6fe6b3c2-8b5a-46fd-bdaf-69adaaabca36\",\"type\":\"Circle\"},\"selection_glyph\":null},\"id\":\"375bd074-679b-44ab-9b67-e85fa82297a7\",\"type\":\"GlyphRenderer\"},{\"attributes\":{},\"id\":\"6735c4bd-522f-4b87-a4f5-7081a679ed32\",\"type\":\"BasicTicker\"},{\"attributes\":{\"plot\":{\"id\":\"6e09026e-4b09-4b34-9efc-54416e6979c5\",\"subtype\":\"Figure\",\"type\":\"Plot\"}},\"id\":\"7e44b472-aca6-44a7-8c71-df33bd2832d5\",\"type\":\"WheelZoomTool\"},{\"attributes\":{\"callback\":null,\"column_names\":[\"y\",\"x\"],\"data\":{\"x\":[0,1,2,3,4,5,6,7,8,9],\"y\":[32909,27530,3195,1405,264,114,100,16,1,1]}},\"id\":\"fc16790a-22ac-407f-a94b-a82432d6f0b5\",\"type\":\"ColumnDataSource\"},{\"attributes\":{\"axis_label\":\"Frequency\",\"formatter\":{\"id\":\"ff7f239e-0763-4d68-aeb2-55a288bdb250\",\"type\":\"BasicTickFormatter\"},\"plot\":{\"id\":\"6e09026e-4b09-4b34-9efc-54416e6979c5\",\"subtype\":\"Figure\",\"type\":\"Plot\"},\"ticker\":{\"id\":\"ca42494c-ba0d-46a9-a5fc-43639b580867\",\"type\":\"BasicTicker\"}},\"id\":\"111dbb4f-5924-491e-8bd0-b0da15d3ea07\",\"type\":\"LinearAxis\"},{\"attributes\":{\"dimension\":1,\"plot\":{\"id\":\"6e09026e-4b09-4b34-9efc-54416e6979c5\",\"subtype\":\"Figure\",\"type\":\"Plot\"},\"ticker\":{\"id\":\"ca42494c-ba0d-46a9-a5fc-43639b580867\",\"type\":\"BasicTicker\"}},\"id\":\"bbe0fe32-cd4e-4d78-858a-d97fb4677c34\",\"type\":\"Grid\"},{\"attributes\":{},\"id\":\"fe8071ac-24b7-40c3-99db-71b7060084d5\",\"type\":\"ToolEvents\"},{\"attributes\":{\"plot\":{\"id\":\"6e09026e-4b09-4b34-9efc-54416e6979c5\",\"subtype\":\"Figure\",\"type\":\"Plot\"},\"ticker\":{\"id\":\"6735c4bd-522f-4b87-a4f5-7081a679ed32\",\"type\":\"BasicTicker\"}},\"id\":\"0844374a-8e1c-45fb-9e87-178eb2b1559c\",\"type\":\"Grid\"},{\"attributes\":{\"plot\":{\"id\":\"6e09026e-4b09-4b34-9efc-54416e6979c5\",\"subtype\":\"Figure\",\"type\":\"Plot\"}},\"id\":\"3d20757a-e585-48bb-8156-10efd22f8394\",\"type\":\"ResetTool\"},{\"attributes\":{\"bottom_units\":\"screen\",\"fill_alpha\":{\"value\":0.5},\"fill_color\":{\"value\":\"lightgrey\"},\"left_units\":\"screen\",\"level\":\"overlay\",\"line_alpha\":{\"value\":1.0},\"line_color\":{\"value\":\"black\"},\"line_dash\":[4,4],\"line_width\":{\"value\":2},\"plot\":null,\"render_mode\":\"css\",\"right_units\":\"screen\",\"top_units\":\"screen\"},\"id\":\"29b8bd9b-5580-469c-82ef-bf7ff37b3395\",\"type\":\"BoxAnnotation\"},{\"attributes\":{\"fill_alpha\":{\"value\":0.1},\"fill_color\":{\"value\":\"#1f77b4\"},\"height\":{\"field\":\"height\",\"units\":\"data\"},\"line_alpha\":{\"value\":0.1},\"line_color\":{\"value\":\"#1f77b4\"},\"width\":{\"units\":\"data\",\"value\":0.4},\"x\":{\"field\":\"x\"},\"y\":{\"field\":\"y\"}},\"id\":\"f72c814c-3aa9-430d-a0e6-2a35ae128ee1\",\"type\":\"Rect\"},{\"attributes\":{\"plot\":{\"id\":\"6e09026e-4b09-4b34-9efc-54416e6979c5\",\"subtype\":\"Figure\",\"type\":\"Plot\"}},\"id\":\"2b366531-15d1-413d-b21b-c8cef3f9b7c8\",\"type\":\"HelpTool\"},{\"attributes\":{},\"id\":\"ca42494c-ba0d-46a9-a5fc-43639b580867\",\"type\":\"BasicTicker\"},{\"attributes\":{\"below\":[{\"id\":\"511442a4-007d-41a5-b18a-badd4e3fb4b0\",\"type\":\"LinearAxis\"}],\"left\":[{\"id\":\"111dbb4f-5924-491e-8bd0-b0da15d3ea07\",\"type\":\"LinearAxis\"}],\"plot_height\":400,\"plot_width\":1000,\"renderers\":[{\"id\":\"511442a4-007d-41a5-b18a-badd4e3fb4b0\",\"type\":\"LinearAxis\"},{\"id\":\"0844374a-8e1c-45fb-9e87-178eb2b1559c\",\"type\":\"Grid\"},{\"id\":\"111dbb4f-5924-491e-8bd0-b0da15d3ea07\",\"type\":\"LinearAxis\"},{\"id\":\"bbe0fe32-cd4e-4d78-858a-d97fb4677c34\",\"type\":\"Grid\"},{\"id\":\"29b8bd9b-5580-469c-82ef-bf7ff37b3395\",\"type\":\"BoxAnnotation\"},{\"id\":\"727d566d-715f-49f8-8a3c-f47108ff777d\",\"type\":\"GlyphRenderer\"},{\"id\":\"c5e1b950-dadb-4553-b63b-218bac181974\",\"type\":\"GlyphRenderer\"},{\"id\":\"375bd074-679b-44ab-9b67-e85fa82297a7\",\"type\":\"GlyphRenderer\"}],\"title\":\"Distribution of Poker Hands\",\"tool_events\":{\"id\":\"fe8071ac-24b7-40c3-99db-71b7060084d5\",\"type\":\"ToolEvents\"},\"tools\":[{\"id\":\"dd9ae939-4d85-4efa-93f8-8f2a67410d66\",\"type\":\"PanTool\"},{\"id\":\"7e44b472-aca6-44a7-8c71-df33bd2832d5\",\"type\":\"WheelZoomTool\"},{\"id\":\"dac7e0c6-f846-404d-9226-d69472afef8d\",\"type\":\"BoxZoomTool\"},{\"id\":\"65b173fe-7f0e-42e7-8a01-e7639fd25965\",\"type\":\"PreviewSaveTool\"},{\"id\":\"1d963887-679b-4770-b9fc-e4b48efe987c\",\"type\":\"ResizeTool\"},{\"id\":\"3d20757a-e585-48bb-8156-10efd22f8394\",\"type\":\"ResetTool\"},{\"id\":\"2b366531-15d1-413d-b21b-c8cef3f9b7c8\",\"type\":\"HelpTool\"}],\"x_range\":{\"id\":\"26ed112e-9cc2-4ca1-af8f-4a4b5d6532d6\",\"type\":\"DataRange1d\"},\"y_range\":{\"id\":\"91bccbee-1266-45ef-a538-47445dcafbbf\",\"type\":\"Range1d\"}},\"id\":\"6e09026e-4b09-4b34-9efc-54416e6979c5\",\"subtype\":\"Figure\",\"type\":\"Plot\"},{\"attributes\":{},\"id\":\"ff7f239e-0763-4d68-aeb2-55a288bdb250\",\"type\":\"BasicTickFormatter\"},{\"attributes\":{\"callback\":null},\"id\":\"26ed112e-9cc2-4ca1-af8f-4a4b5d6532d6\",\"type\":\"DataRange1d\"},{\"attributes\":{\"overlay\":{\"id\":\"29b8bd9b-5580-469c-82ef-bf7ff37b3395\",\"type\":\"BoxAnnotation\"},\"plot\":{\"id\":\"6e09026e-4b09-4b34-9efc-54416e6979c5\",\"subtype\":\"Figure\",\"type\":\"Plot\"}},\"id\":\"dac7e0c6-f846-404d-9226-d69472afef8d\",\"type\":\"BoxZoomTool\"},{\"attributes\":{\"plot\":{\"id\":\"6e09026e-4b09-4b34-9efc-54416e6979c5\",\"subtype\":\"Figure\",\"type\":\"Plot\"}},\"id\":\"65b173fe-7f0e-42e7-8a01-e7639fd25965\",\"type\":\"PreviewSaveTool\"},{\"attributes\":{},\"id\":\"381e0e8b-31e0-4e26-a051-96b2857922b1\",\"type\":\"BasicTickFormatter\"},{\"attributes\":{\"callback\":null,\"end\":32909},\"id\":\"91bccbee-1266-45ef-a538-47445dcafbbf\",\"type\":\"Range1d\"},{\"attributes\":{\"fill_color\":{\"value\":\"#CAB2D6\"},\"height\":{\"field\":\"height\",\"units\":\"data\"},\"line_color\":{\"value\":\"#CAB2D6\"},\"width\":{\"units\":\"data\",\"value\":0.4},\"x\":{\"field\":\"x\"},\"y\":{\"field\":\"y\"}},\"id\":\"805ce702-596d-4bdf-bdaf-0d43976c1ade\",\"type\":\"Rect\"},{\"attributes\":{\"line_alpha\":{\"value\":0.1},\"line_color\":{\"value\":\"#1f77b4\"},\"line_width\":{\"value\":2},\"x\":{\"field\":\"x\"},\"y\":{\"field\":\"y\"}},\"id\":\"29e43f02-9d3f-4882-a1e6-56e8aa57d993\",\"type\":\"Line\"},{\"attributes\":{\"plot\":{\"id\":\"6e09026e-4b09-4b34-9efc-54416e6979c5\",\"subtype\":\"Figure\",\"type\":\"Plot\"}},\"id\":\"1d963887-679b-4770-b9fc-e4b48efe987c\",\"type\":\"ResizeTool\"},{\"attributes\":{\"line_color\":{\"value\":\"#1f77b4\"},\"line_width\":{\"value\":2},\"x\":{\"field\":\"x\"},\"y\":{\"field\":\"y\"}},\"id\":\"fa52454b-58ea-44d5-b5ac-02e0c3922b7d\",\"type\":\"Line\"},{\"attributes\":{\"callback\":null,\"column_names\":[\"y\",\"x\",\"height\"],\"data\":{\"height\":[32909,27530,3195,1405,264,114,100,16,1,1],\"x\":[0,1,2,3,4,5,6,7,8,9],\"y\":[16454,13765,1597,702,132,57,50,8,0,0]}},\"id\":\"f8958c3b-4f10-46bd-aa58-62cb2601d751\",\"type\":\"ColumnDataSource\"},{\"attributes\":{\"fill_alpha\":{\"value\":0.1},\"fill_color\":{\"value\":\"#1f77b4\"},\"line_alpha\":{\"value\":0.1},\"line_color\":{\"value\":\"#1f77b4\"},\"size\":{\"units\":\"screen\",\"value\":8},\"x\":{\"field\":\"x\"},\"y\":{\"field\":\"y\"}},\"id\":\"6fe6b3c2-8b5a-46fd-bdaf-69adaaabca36\",\"type\":\"Circle\"},{\"attributes\":{\"data_source\":{\"id\":\"efff05a8-855b-43d8-9a22-f502750cc46a\",\"type\":\"ColumnDataSource\"},\"glyph\":{\"id\":\"fa52454b-58ea-44d5-b5ac-02e0c3922b7d\",\"type\":\"Line\"},\"hover_glyph\":null,\"nonselection_glyph\":{\"id\":\"29e43f02-9d3f-4882-a1e6-56e8aa57d993\",\"type\":\"Line\"},\"selection_glyph\":null},\"id\":\"c5e1b950-dadb-4553-b63b-218bac181974\",\"type\":\"GlyphRenderer\"},{\"attributes\":{\"fill_color\":{\"value\":\"white\"},\"line_color\":{\"value\":\"#1f77b4\"},\"size\":{\"units\":\"screen\",\"value\":8},\"x\":{\"field\":\"x\"},\"y\":{\"field\":\"y\"}},\"id\":\"783fc1eb-e5ba-4ade-9cb8-e380e48d5288\",\"type\":\"Circle\"},{\"attributes\":{\"plot\":{\"id\":\"6e09026e-4b09-4b34-9efc-54416e6979c5\",\"subtype\":\"Figure\",\"type\":\"Plot\"}},\"id\":\"dd9ae939-4d85-4efa-93f8-8f2a67410d66\",\"type\":\"PanTool\"},{\"attributes\":{\"data_source\":{\"id\":\"f8958c3b-4f10-46bd-aa58-62cb2601d751\",\"type\":\"ColumnDataSource\"},\"glyph\":{\"id\":\"805ce702-596d-4bdf-bdaf-0d43976c1ade\",\"type\":\"Rect\"},\"hover_glyph\":null,\"nonselection_glyph\":{\"id\":\"f72c814c-3aa9-430d-a0e6-2a35ae128ee1\",\"type\":\"Rect\"},\"selection_glyph\":null},\"id\":\"727d566d-715f-49f8-8a3c-f47108ff777d\",\"type\":\"GlyphRenderer\"}],\"root_ids\":[\"6e09026e-4b09-4b34-9efc-54416e6979c5\"]},\"title\":\"Bokeh Application\",\"version\":\"0.11.1\"}};\n",
       "            var render_items = [{\"docid\":\"a2e01f67-1124-48a6-aa24-123485df7e64\",\"elementid\":\"e1534c80-209f-4d8e-89d4-934b94c3fb2a\",\"modelid\":\"6e09026e-4b09-4b34-9efc-54416e6979c5\",\"notebook_comms_target\":\"e6033d5d-e666-40a3-92d5-eff47acb1683\"}];\n",
       "            \n",
       "            Bokeh.embed.embed_items(docs_json, render_items);\n",
       "        });\n",
       "      },\n",
       "      function(Bokeh) {\n",
       "      }\n",
       "    ];\n",
       "  \n",
       "    function run_inline_js() {\n",
       "      for (var i = 0; i < inline_js.length; i++) {\n",
       "        inline_js[i](window.Bokeh);\n",
       "      }\n",
       "    }\n",
       "  \n",
       "    if (window._bokeh_is_loading === 0) {\n",
       "      console.log(\"Bokeh: BokehJS loaded, going straight to plotting\");\n",
       "      run_inline_js();\n",
       "    } else {\n",
       "      load_libs(js_urls, function() {\n",
       "        console.log(\"Bokeh: BokehJS plotting callback run at\", now());\n",
       "        run_inline_js();\n",
       "      });\n",
       "    }\n",
       "  }(this));\n",
       "</script>"
      ]
     },
     "metadata": {},
     "output_type": "display_data"
    },
    {
     "data": {
      "text/html": [
       "<p><code>&lt;Bokeh Notebook handle for <strong>In[16]</strong>&gt;</code></p>"
      ],
      "text/plain": [
       "<bokeh.io._CommsHandle at 0x1068e3ed0>"
      ]
     },
     "execution_count": 16,
     "metadata": {},
     "output_type": "execute_result"
    }
   ],
   "source": [
    "# Show our new graph - a combination of both line and bar charts\n",
    "show(p)"
   ]
  },
  {
   "cell_type": "markdown",
   "metadata": {},
   "source": [
    "Neat! We've built our first visualization showing the frequencies of winning Poker hands. As we can see, class zero (empty hands) occurs more than 1/3 of the time (~35000 empty hands over 1,000,000 poker hands), while class one (one pair) occurs very frequently. \n",
    "\n",
    "Next, we'll explore one of Bokeh's best features - high-level chart APIs. Our goal is to create a Heatmap of the distribution of cards (suit and rank) in all winning hands containing one pair (class one)."
   ]
  },
  {
   "cell_type": "code",
   "execution_count": 17,
   "metadata": {
    "collapsed": false
   },
   "outputs": [],
   "source": [
    "# Get all winning one-pair hands\n",
    "onePair = data.loc[data['CLASS'] == '1']\n",
    "\n",
    "# Get all the cards in these winning hands\n",
    "card1 = onePair.C1.tolist()\n",
    "card2 = onePair.C2.tolist()\n",
    "card3 = onePair.C3.tolist()\n",
    "card4 = onePair.C4.tolist()\n",
    "card5 = onePair.C5.tolist()\n",
    "\n",
    "# Get all the suits in these winning hands\n",
    "suit1 = onePair.S1.tolist()\n",
    "suit2 = onePair.S2.tolist()\n",
    "suit3 = onePair.S3.tolist()\n",
    "suit4 = onePair.S4.tolist()\n",
    "suit5 = onePair.S5.tolist()"
   ]
  },
  {
   "cell_type": "markdown",
   "metadata": {},
   "source": [
    "In order to preserve the ordered pairs of our cards, we make sure to append them into the corresponding arrays for both card rank and card suit. We also replace the names of all cards with a value greater than 10 for clarity."
   ]
  },
  {
   "cell_type": "code",
   "execution_count": 18,
   "metadata": {
    "collapsed": false
   },
   "outputs": [],
   "source": [
    "# bundle all cards, preserving order\n",
    "x = []\n",
    "for num in range(0, len(onePair)):\n",
    "    x.append(card1[num])\n",
    "    x.append(card2[num])\n",
    "    x.append(card3[num])\n",
    "    x.append(card4[num])\n",
    "    x.append(card5[num])\n",
    "# print x\n",
    "\n",
    "# Replace > 10 values with letters\n",
    "for num in range(0, len(x)):\n",
    "    if x[num] == '11':\n",
    "        x[num] = 'J'\n",
    "    \n",
    "    if x[num] == '12':\n",
    "        x[num] = 'Q'\n",
    "    \n",
    "    if x[num] == '13':\n",
    "        x[num] = 'K'\n",
    "    \n",
    "    if x[num] == '1':\n",
    "        x[num] = 'A'\n",
    "        \n",
    "# bundle all suits\n",
    "y = []\n",
    "for num in range(0, len(onePair)):\n",
    "    y.append(suit1[num])\n",
    "    y.append(suit2[num])\n",
    "    y.append(suit3[num])\n",
    "    y.append(suit4[num])\n",
    "    y.append(suit5[num])\n",
    "    \n",
    "# Replace all values with suits\n",
    "for num in range(0, len(y)):\n",
    "    if y[num] == '1':\n",
    "        y[num] = 'Hearts'\n",
    "    \n",
    "    if y[num] == '2':\n",
    "        y[num] = 'Spades'\n",
    "        \n",
    "    if y[num] == '3':\n",
    "        y[num] = 'Diamonds'\n",
    "    \n",
    "    if y[num] == '4':\n",
    "        y[num] = 'Clubs'"
   ]
  },
  {
   "cell_type": "markdown",
   "metadata": {},
   "source": [
    "Using Bokeh's high-level chart API, we can create a Heatmap by creating a Pandas dataframe containing our x-axis (card rank) and y-axis (card suit)."
   ]
  },
  {
   "cell_type": "code",
   "execution_count": 19,
   "metadata": {
    "collapsed": false
   },
   "outputs": [],
   "source": [
    "# One of the best features in Bokeh - high-level chart APIs\n",
    "from bokeh.charts import HeatMap\n",
    "\n",
    "# Create a dataframe consisting of a dictionary of the x and y axis\n",
    "df = pandas.DataFrame(\n",
    "        dict(\n",
    "            cards=x,\n",
    "            suits=y\n",
    "        )\n",
    "    )\n",
    "\n",
    "# Create a heatmap using the high-level heatmap function\n",
    "p = HeatMap(df, title='Distribution', width=1000, tools='hover')"
   ]
  },
  {
   "cell_type": "code",
   "execution_count": 20,
   "metadata": {
    "collapsed": false,
    "scrolled": true
   },
   "outputs": [
    {
     "data": {
      "text/html": [
       "\n",
       "\n",
       "    <div class=\"plotdiv\" id=\"f4f540eb-7d6f-49c7-a3f2-5a1f94ccbbca\"></div>\n",
       "<script type=\"text/javascript\">\n",
       "  \n",
       "  (function(global) {\n",
       "    function now() {\n",
       "      return new Date();\n",
       "    }\n",
       "  \n",
       "    if (typeof (window._bokeh_onload_callbacks) === \"undefined\") {\n",
       "      window._bokeh_onload_callbacks = [];\n",
       "    }\n",
       "  \n",
       "    function run_callbacks() {\n",
       "      window._bokeh_onload_callbacks.forEach(function(callback) { callback() });\n",
       "      delete window._bokeh_onload_callbacks\n",
       "      console.info(\"Bokeh: all callbacks have finished\");\n",
       "    }\n",
       "  \n",
       "    function load_libs(js_urls, callback) {\n",
       "      window._bokeh_onload_callbacks.push(callback);\n",
       "      if (window._bokeh_is_loading > 0) {\n",
       "        console.log(\"Bokeh: BokehJS is being loaded, scheduling callback at\", now());\n",
       "        return null;\n",
       "      }\n",
       "      if (js_urls == null || js_urls.length === 0) {\n",
       "        run_callbacks();\n",
       "        return null;\n",
       "      }\n",
       "      console.log(\"Bokeh: BokehJS not loaded, scheduling load and callback at\", now());\n",
       "      window._bokeh_is_loading = js_urls.length;\n",
       "      for (var i = 0; i < js_urls.length; i++) {\n",
       "        var url = js_urls[i];\n",
       "        var s = document.createElement('script');\n",
       "        s.src = url;\n",
       "        s.async = false;\n",
       "        s.onreadystatechange = s.onload = function() {\n",
       "          window._bokeh_is_loading--;\n",
       "          if (window._bokeh_is_loading === 0) {\n",
       "            console.log(\"Bokeh: all BokehJS libraries loaded\");\n",
       "            run_callbacks()\n",
       "          }\n",
       "        };\n",
       "        s.onerror = function() {\n",
       "          console.warn(\"failed to load library \" + url);\n",
       "        };\n",
       "        console.log(\"Bokeh: injecting script tag for BokehJS library: \", url);\n",
       "        document.getElementsByTagName(\"head\")[0].appendChild(s);\n",
       "      }\n",
       "    };var element = document.getElementById(\"f4f540eb-7d6f-49c7-a3f2-5a1f94ccbbca\");\n",
       "    if (element == null) {\n",
       "      console.log(\"Bokeh: ERROR: autoload.js configured with elementid 'f4f540eb-7d6f-49c7-a3f2-5a1f94ccbbca' but no matching script tag was found. \")\n",
       "      return false;\n",
       "    }\n",
       "  \n",
       "    var js_urls = [];\n",
       "  \n",
       "    var inline_js = [\n",
       "      function(Bokeh) {\n",
       "        Bokeh.$(function() {\n",
       "            var docs_json = {\"36ebca98-2734-4d77-a3be-d543f714f577\":{\"roots\":{\"references\":[{\"attributes\":{\"dilate\":true,\"fill_color\":{\"value\":\"#08519c\"},\"height\":{\"units\":\"data\",\"value\":0.95},\"line_color\":{\"value\":\"#08519c\"},\"width\":{\"units\":\"data\",\"value\":0.95},\"x\":{\"field\":\"x\"},\"y\":{\"field\":\"y\"}},\"id\":\"8280f180-4b54-4a25-9f29-07ace8f3c2c3\",\"type\":\"Rect\"},{\"attributes\":{},\"id\":\"3faeab02-fc40-43e6-b821-7aa6e8eb54e0\",\"type\":\"CategoricalTickFormatter\"},{\"attributes\":{},\"id\":\"83846f57-9718-4e2f-adcb-33d06501f878\",\"type\":\"ToolEvents\"},{\"attributes\":{\"data_source\":{\"id\":\"fc16790a-22ac-407f-a94b-a82432d6f0b5\",\"type\":\"ColumnDataSource\"},\"glyph\":{\"id\":\"783fc1eb-e5ba-4ade-9cb8-e380e48d5288\",\"type\":\"Circle\"},\"hover_glyph\":null,\"nonselection_glyph\":{\"id\":\"6fe6b3c2-8b5a-46fd-bdaf-69adaaabca36\",\"type\":\"Circle\"},\"selection_glyph\":null},\"id\":\"375bd074-679b-44ab-9b67-e85fa82297a7\",\"type\":\"GlyphRenderer\"},{\"attributes\":{\"dilate\":true,\"fill_color\":{\"value\":\"#c6dbef\"},\"height\":{\"units\":\"data\",\"value\":0.95},\"line_color\":{\"value\":\"#c6dbef\"},\"width\":{\"units\":\"data\",\"value\":0.95},\"x\":{\"field\":\"x\"},\"y\":{\"field\":\"y\"}},\"id\":\"c97e1109-9fcb-48b6-9443-6c1f8a7bef63\",\"type\":\"Rect\"},{\"attributes\":{\"callback\":null,\"column_names\":[\"y\",\"x\",\"values\"],\"data\":{\"Count\":[\"(2606.8, 2645.7]\",\"(2606.8, 2645.7]\",\"(2606.8, 2645.7]\",\"(2606.8, 2645.7]\",\"(2606.8, 2645.7]\",\"(2606.8, 2645.7]\",\"(2606.8, 2645.7]\",\"(2606.8, 2645.7]\",\"(2606.8, 2645.7]\",\"(2606.8, 2645.7]\",\"(2606.8, 2645.7]\",\"(2606.8, 2645.7]\",\"(2606.8, 2645.7]\",\"(2606.8, 2645.7]\",\"(2606.8, 2645.7]\",\"(2606.8, 2645.7]\"],\"chart_index\":[{\"Count\":\"(2606.8, 2645.7]\"},{\"Count\":\"(2606.8, 2645.7]\"},{\"Count\":\"(2606.8, 2645.7]\"},{\"Count\":\"(2606.8, 2645.7]\"},{\"Count\":\"(2606.8, 2645.7]\"},{\"Count\":\"(2606.8, 2645.7]\"},{\"Count\":\"(2606.8, 2645.7]\"},{\"Count\":\"(2606.8, 2645.7]\"},{\"Count\":\"(2606.8, 2645.7]\"},{\"Count\":\"(2606.8, 2645.7]\"},{\"Count\":\"(2606.8, 2645.7]\"},{\"Count\":\"(2606.8, 2645.7]\"},{\"Count\":\"(2606.8, 2645.7]\"},{\"Count\":\"(2606.8, 2645.7]\"},{\"Count\":\"(2606.8, 2645.7]\"},{\"Count\":\"(2606.8, 2645.7]\"}],\"values\":[2636,2613,2637,2616,2626,2627,2619,2634,2623,2631,2633,2635,2641,2616,2633,2609],\"x\":[\"5\",\"6\",\"J\",\"5\",\"Q\",\"Q\",\"2\",\"9\",\"A\",\"7\",\"10\",\"3\",\"7\",\"4\",\"3\",\"7\"],\"y\":[\"Clubs\",\"Hearts\",\"Spades\",\"Diamonds\",\"Clubs\",\"Spades\",\"Spades\",\"Clubs\",\"Clubs\",\"Hearts\",\"Hearts\",\"Clubs\",\"Diamonds\",\"Clubs\",\"Hearts\",\"Clubs\"]}},\"id\":\"4df00474-cfcd-4712-82ee-66079256e22c\",\"type\":\"ColumnDataSource\"},{\"attributes\":{\"callback\":null,\"column_names\":[\"y\",\"x\"],\"data\":{\"x\":[0,1,2,3,4,5,6,7,8,9],\"y\":[32909,27530,3195,1405,264,114,100,16,1,1]}},\"id\":\"efff05a8-855b-43d8-9a22-f502750cc46a\",\"type\":\"ColumnDataSource\"},{\"attributes\":{},\"id\":\"ca42494c-ba0d-46a9-a5fc-43639b580867\",\"type\":\"BasicTicker\"},{\"attributes\":{\"plot\":{\"id\":\"6e09026e-4b09-4b34-9efc-54416e6979c5\",\"subtype\":\"Figure\",\"type\":\"Plot\"}},\"id\":\"7e44b472-aca6-44a7-8c71-df33bd2832d5\",\"type\":\"WheelZoomTool\"},{\"attributes\":{\"callback\":null,\"column_names\":[\"y\",\"x\"],\"data\":{\"x\":[0,1,2,3,4,5,6,7,8,9],\"y\":[32909,27530,3195,1405,264,114,100,16,1,1]}},\"id\":\"fc16790a-22ac-407f-a94b-a82432d6f0b5\",\"type\":\"ColumnDataSource\"},{\"attributes\":{\"axis_label\":\"Frequency\",\"formatter\":{\"id\":\"ff7f239e-0763-4d68-aeb2-55a288bdb250\",\"type\":\"BasicTickFormatter\"},\"plot\":{\"id\":\"6e09026e-4b09-4b34-9efc-54416e6979c5\",\"subtype\":\"Figure\",\"type\":\"Plot\"},\"ticker\":{\"id\":\"ca42494c-ba0d-46a9-a5fc-43639b580867\",\"type\":\"BasicTicker\"}},\"id\":\"111dbb4f-5924-491e-8bd0-b0da15d3ea07\",\"type\":\"LinearAxis\"},{\"attributes\":{\"dimension\":1,\"plot\":{\"id\":\"6e09026e-4b09-4b34-9efc-54416e6979c5\",\"subtype\":\"Figure\",\"type\":\"Plot\"},\"ticker\":{\"id\":\"ca42494c-ba0d-46a9-a5fc-43639b580867\",\"type\":\"BasicTicker\"}},\"id\":\"bbe0fe32-cd4e-4d78-858a-d97fb4677c34\",\"type\":\"Grid\"},{\"attributes\":{},\"id\":\"fe8071ac-24b7-40c3-99db-71b7060084d5\",\"type\":\"ToolEvents\"},{\"attributes\":{\"plot\":{\"id\":\"6e09026e-4b09-4b34-9efc-54416e6979c5\",\"subtype\":\"Figure\",\"type\":\"Plot\"},\"ticker\":{\"id\":\"6735c4bd-522f-4b87-a4f5-7081a679ed32\",\"type\":\"BasicTicker\"}},\"id\":\"0844374a-8e1c-45fb-9e87-178eb2b1559c\",\"type\":\"Grid\"},{\"attributes\":{\"plot\":{\"id\":\"6e09026e-4b09-4b34-9efc-54416e6979c5\",\"subtype\":\"Figure\",\"type\":\"Plot\"}},\"id\":\"3d20757a-e585-48bb-8156-10efd22f8394\",\"type\":\"ResetTool\"},{\"attributes\":{\"dilate\":true,\"fill_color\":{\"value\":\"#3182bd\"},\"height\":{\"units\":\"data\",\"value\":0.95},\"line_color\":{\"value\":\"#3182bd\"},\"width\":{\"units\":\"data\",\"value\":0.95},\"x\":{\"field\":\"x\"},\"y\":{\"field\":\"y\"}},\"id\":\"4127b3fe-b39b-4dfb-98bb-cb2ebcec4222\",\"type\":\"Rect\"},{\"attributes\":{\"bottom_units\":\"screen\",\"fill_alpha\":{\"value\":0.5},\"fill_color\":{\"value\":\"lightgrey\"},\"left_units\":\"screen\",\"level\":\"overlay\",\"line_alpha\":{\"value\":1.0},\"line_color\":{\"value\":\"black\"},\"line_dash\":[4,4],\"line_width\":{\"value\":2},\"plot\":null,\"render_mode\":\"css\",\"right_units\":\"screen\",\"top_units\":\"screen\"},\"id\":\"29b8bd9b-5580-469c-82ef-bf7ff37b3395\",\"type\":\"BoxAnnotation\"},{\"attributes\":{},\"id\":\"5082fb9b-7d66-4e13-abcd-22db3d75c13e\",\"type\":\"CategoricalTickFormatter\"},{\"attributes\":{\"axis_label\":\"suits\",\"formatter\":{\"id\":\"3faeab02-fc40-43e6-b821-7aa6e8eb54e0\",\"type\":\"CategoricalTickFormatter\"},\"major_label_orientation\":0.7853981633974483,\"plot\":{\"id\":\"f49434a2-edc1-465b-8370-40297acd3fe2\",\"subtype\":\"Chart\",\"type\":\"Plot\"},\"ticker\":{\"id\":\"a3524e53-8c21-49d8-9c7e-be014f14390f\",\"type\":\"CategoricalTicker\"}},\"id\":\"654ef62a-e254-4d86-86bd-afc8c892b478\",\"type\":\"CategoricalAxis\"},{\"attributes\":{\"dilate\":true,\"fill_color\":{\"value\":\"#eff3ff\"},\"height\":{\"units\":\"data\",\"value\":0.95},\"line_color\":{\"value\":\"#eff3ff\"},\"width\":{\"units\":\"data\",\"value\":0.95},\"x\":{\"field\":\"x\"},\"y\":{\"field\":\"y\"}},\"id\":\"08d1ca01-e576-409a-bb93-4dc9b7e888f9\",\"type\":\"Rect\"},{\"attributes\":{\"plot\":{\"id\":\"6e09026e-4b09-4b34-9efc-54416e6979c5\",\"subtype\":\"Figure\",\"type\":\"Plot\"}},\"id\":\"2b366531-15d1-413d-b21b-c8cef3f9b7c8\",\"type\":\"HelpTool\"},{\"attributes\":{},\"id\":\"a3524e53-8c21-49d8-9c7e-be014f14390f\",\"type\":\"CategoricalTicker\"},{\"attributes\":{\"overlay\":{\"id\":\"29b8bd9b-5580-469c-82ef-bf7ff37b3395\",\"type\":\"BoxAnnotation\"},\"plot\":{\"id\":\"6e09026e-4b09-4b34-9efc-54416e6979c5\",\"subtype\":\"Figure\",\"type\":\"Plot\"}},\"id\":\"dac7e0c6-f846-404d-9226-d69472afef8d\",\"type\":\"BoxZoomTool\"},{\"attributes\":{\"below\":[{\"id\":\"511442a4-007d-41a5-b18a-badd4e3fb4b0\",\"type\":\"LinearAxis\"}],\"left\":[{\"id\":\"111dbb4f-5924-491e-8bd0-b0da15d3ea07\",\"type\":\"LinearAxis\"}],\"plot_height\":400,\"plot_width\":1000,\"renderers\":[{\"id\":\"511442a4-007d-41a5-b18a-badd4e3fb4b0\",\"type\":\"LinearAxis\"},{\"id\":\"0844374a-8e1c-45fb-9e87-178eb2b1559c\",\"type\":\"Grid\"},{\"id\":\"111dbb4f-5924-491e-8bd0-b0da15d3ea07\",\"type\":\"LinearAxis\"},{\"id\":\"bbe0fe32-cd4e-4d78-858a-d97fb4677c34\",\"type\":\"Grid\"},{\"id\":\"29b8bd9b-5580-469c-82ef-bf7ff37b3395\",\"type\":\"BoxAnnotation\"},{\"id\":\"727d566d-715f-49f8-8a3c-f47108ff777d\",\"type\":\"GlyphRenderer\"},{\"id\":\"c5e1b950-dadb-4553-b63b-218bac181974\",\"type\":\"GlyphRenderer\"},{\"id\":\"375bd074-679b-44ab-9b67-e85fa82297a7\",\"type\":\"GlyphRenderer\"}],\"title\":\"Distribution of Poker Hands\",\"tool_events\":{\"id\":\"fe8071ac-24b7-40c3-99db-71b7060084d5\",\"type\":\"ToolEvents\"},\"tools\":[{\"id\":\"dd9ae939-4d85-4efa-93f8-8f2a67410d66\",\"type\":\"PanTool\"},{\"id\":\"7e44b472-aca6-44a7-8c71-df33bd2832d5\",\"type\":\"WheelZoomTool\"},{\"id\":\"dac7e0c6-f846-404d-9226-d69472afef8d\",\"type\":\"BoxZoomTool\"},{\"id\":\"65b173fe-7f0e-42e7-8a01-e7639fd25965\",\"type\":\"PreviewSaveTool\"},{\"id\":\"1d963887-679b-4770-b9fc-e4b48efe987c\",\"type\":\"ResizeTool\"},{\"id\":\"3d20757a-e585-48bb-8156-10efd22f8394\",\"type\":\"ResetTool\"},{\"id\":\"2b366531-15d1-413d-b21b-c8cef3f9b7c8\",\"type\":\"HelpTool\"}],\"x_range\":{\"id\":\"26ed112e-9cc2-4ca1-af8f-4a4b5d6532d6\",\"type\":\"DataRange1d\"},\"y_range\":{\"id\":\"91bccbee-1266-45ef-a538-47445dcafbbf\",\"type\":\"Range1d\"}},\"id\":\"6e09026e-4b09-4b34-9efc-54416e6979c5\",\"subtype\":\"Figure\",\"type\":\"Plot\"},{\"attributes\":{\"data_source\":{\"id\":\"4df00474-cfcd-4712-82ee-66079256e22c\",\"type\":\"ColumnDataSource\"},\"glyph\":{\"id\":\"c97e1109-9fcb-48b6-9443-6c1f8a7bef63\",\"type\":\"Rect\"},\"hover_glyph\":null,\"nonselection_glyph\":null,\"selection_glyph\":null},\"id\":\"dc11eb38-0f83-4b80-a4ac-24bf4f5c472c\",\"type\":\"GlyphRenderer\"},{\"attributes\":{\"data_source\":{\"id\":\"b9c34f26-5fa0-4698-8e25-7bc66c308efa\",\"type\":\"ColumnDataSource\"},\"glyph\":{\"id\":\"f8281baa-a1b8-433c-add7-bf39fb0d66b8\",\"type\":\"Rect\"},\"hover_glyph\":null,\"nonselection_glyph\":null,\"selection_glyph\":null},\"id\":\"d7dea2b9-5a7b-41d9-9151-9c66847e9a87\",\"type\":\"GlyphRenderer\"},{\"attributes\":{\"axis_label\":\"Winning Poker Hand Class\",\"formatter\":{\"id\":\"381e0e8b-31e0-4e26-a051-96b2857922b1\",\"type\":\"BasicTickFormatter\"},\"plot\":{\"id\":\"6e09026e-4b09-4b34-9efc-54416e6979c5\",\"subtype\":\"Figure\",\"type\":\"Plot\"},\"ticker\":{\"id\":\"6735c4bd-522f-4b87-a4f5-7081a679ed32\",\"type\":\"BasicTicker\"}},\"id\":\"511442a4-007d-41a5-b18a-badd4e3fb4b0\",\"type\":\"LinearAxis\"},{\"attributes\":{\"axis_label\":\"cards\",\"formatter\":{\"id\":\"5082fb9b-7d66-4e13-abcd-22db3d75c13e\",\"type\":\"CategoricalTickFormatter\"},\"major_label_orientation\":0.7853981633974483,\"plot\":{\"id\":\"f49434a2-edc1-465b-8370-40297acd3fe2\",\"subtype\":\"Chart\",\"type\":\"Plot\"},\"ticker\":{\"id\":\"b7fa303e-f0b3-41c7-92bd-5c976eaec48c\",\"type\":\"CategoricalTicker\"}},\"id\":\"6a7d9d01-13ed-40b6-afa3-dfc1d5e99ed8\",\"type\":\"CategoricalAxis\"},{\"attributes\":{\"callback\":null,\"column_names\":[\"y\",\"x\",\"values\"],\"data\":{\"Count\":[\"(2645.7, 2684.5]\",\"(2645.7, 2684.5]\",\"(2645.7, 2684.5]\",\"(2645.7, 2684.5]\",\"(2645.7, 2684.5]\",\"(2645.7, 2684.5]\",\"(2645.7, 2684.5]\",\"(2645.7, 2684.5]\",\"(2645.7, 2684.5]\",\"(2645.7, 2684.5]\",\"(2645.7, 2684.5]\"],\"chart_index\":[{\"Count\":\"(2645.7, 2684.5]\"},{\"Count\":\"(2645.7, 2684.5]\"},{\"Count\":\"(2645.7, 2684.5]\"},{\"Count\":\"(2645.7, 2684.5]\"},{\"Count\":\"(2645.7, 2684.5]\"},{\"Count\":\"(2645.7, 2684.5]\"},{\"Count\":\"(2645.7, 2684.5]\"},{\"Count\":\"(2645.7, 2684.5]\"},{\"Count\":\"(2645.7, 2684.5]\"},{\"Count\":\"(2645.7, 2684.5]\"},{\"Count\":\"(2645.7, 2684.5]\"}],\"values\":[2658,2669,2657,2660,2650,2652,2658,2670,2647,2664,2671],\"x\":[\"2\",\"6\",\"4\",\"K\",\"K\",\"2\",\"7\",\"8\",\"Q\",\"3\",\"10\"],\"y\":[\"Diamonds\",\"Clubs\",\"Hearts\",\"Spades\",\"Hearts\",\"Clubs\",\"Spades\",\"Spades\",\"Hearts\",\"Spades\",\"Spades\"]}},\"id\":\"12b7651c-5701-41e3-93f8-c90d4f399202\",\"type\":\"ColumnDataSource\"},{\"attributes\":{},\"id\":\"ff7f239e-0763-4d68-aeb2-55a288bdb250\",\"type\":\"BasicTickFormatter\"},{\"attributes\":{\"callback\":null},\"id\":\"26ed112e-9cc2-4ca1-af8f-4a4b5d6532d6\",\"type\":\"DataRange1d\"},{\"attributes\":{\"plot\":{\"id\":\"6e09026e-4b09-4b34-9efc-54416e6979c5\",\"subtype\":\"Figure\",\"type\":\"Plot\"}},\"id\":\"65b173fe-7f0e-42e7-8a01-e7639fd25965\",\"type\":\"PreviewSaveTool\"},{\"attributes\":{},\"id\":\"381e0e8b-31e0-4e26-a051-96b2857922b1\",\"type\":\"BasicTickFormatter\"},{\"attributes\":{\"callback\":null,\"plot\":{\"id\":\"f49434a2-edc1-465b-8370-40297acd3fe2\",\"subtype\":\"Chart\",\"type\":\"Plot\"}},\"id\":\"ff1e84cc-7e79-416d-980c-9aff20ac2cbd\",\"type\":\"HoverTool\"},{\"attributes\":{\"data_source\":{\"id\":\"12b7651c-5701-41e3-93f8-c90d4f399202\",\"type\":\"ColumnDataSource\"},\"glyph\":{\"id\":\"f4c56c47-fbf5-436f-a956-200fbccfdcfd\",\"type\":\"Rect\"},\"hover_glyph\":null,\"nonselection_glyph\":null,\"selection_glyph\":null},\"id\":\"482c4ea1-f998-4847-a856-8a43460fcba8\",\"type\":\"GlyphRenderer\"},{\"attributes\":{\"below\":[{\"id\":\"6a7d9d01-13ed-40b6-afa3-dfc1d5e99ed8\",\"type\":\"CategoricalAxis\"}],\"left\":[{\"id\":\"654ef62a-e254-4d86-86bd-afc8c892b478\",\"type\":\"CategoricalAxis\"}],\"legend\":null,\"plot_width\":1000,\"renderers\":[{\"id\":\"5feb5a60-5d52-4f4e-a84a-31b3969a2259\",\"type\":\"GlyphRenderer\"},{\"id\":\"441bbed9-06b5-412f-aae0-6f4c3c28a0b6\",\"type\":\"GlyphRenderer\"},{\"id\":\"d7dea2b9-5a7b-41d9-9151-9c66847e9a87\",\"type\":\"GlyphRenderer\"},{\"id\":\"482c4ea1-f998-4847-a856-8a43460fcba8\",\"type\":\"GlyphRenderer\"},{\"id\":\"dc11eb38-0f83-4b80-a4ac-24bf4f5c472c\",\"type\":\"GlyphRenderer\"},{\"id\":\"5c3ed655-89af-406c-a951-f5d3648450b1\",\"type\":\"GlyphRenderer\"},{\"id\":\"6a7d9d01-13ed-40b6-afa3-dfc1d5e99ed8\",\"type\":\"CategoricalAxis\"},{\"id\":\"654ef62a-e254-4d86-86bd-afc8c892b478\",\"type\":\"CategoricalAxis\"}],\"title\":\"Distribution\",\"title_text_font_size\":{\"value\":\"14pt\"},\"tool_events\":{\"id\":\"83846f57-9718-4e2f-adcb-33d06501f878\",\"type\":\"ToolEvents\"},\"tools\":[{\"id\":\"ff1e84cc-7e79-416d-980c-9aff20ac2cbd\",\"type\":\"HoverTool\"}],\"x_mapper_type\":\"auto\",\"x_range\":{\"id\":\"e89b0c44-546b-4720-80cf-19ee7719b485\",\"type\":\"FactorRange\"},\"xgrid\":false,\"xscale\":\"auto\",\"y_mapper_type\":\"auto\",\"y_range\":{\"id\":\"889dfec0-78ca-454c-b002-26b8965f8df5\",\"type\":\"FactorRange\"},\"ygrid\":false,\"yscale\":\"auto\"},\"id\":\"f49434a2-edc1-465b-8370-40297acd3fe2\",\"subtype\":\"Chart\",\"type\":\"Plot\"},{\"attributes\":{\"callback\":null,\"column_names\":[\"y\",\"x\",\"values\"],\"data\":{\"Count\":[\"(2762.2, 2801]\"],\"chart_index\":[{\"Count\":\"(2762.2, 2801]\"}],\"values\":[2801],\"x\":[\"K\"],\"y\":[\"Diamonds\"]}},\"id\":\"2233bb9b-0284-4173-b875-faa47b8c3d7b\",\"type\":\"ColumnDataSource\"},{\"attributes\":{\"callback\":null,\"end\":32909},\"id\":\"91bccbee-1266-45ef-a538-47445dcafbbf\",\"type\":\"Range1d\"},{\"attributes\":{\"fill_color\":{\"value\":\"#CAB2D6\"},\"height\":{\"field\":\"height\",\"units\":\"data\"},\"line_color\":{\"value\":\"#CAB2D6\"},\"width\":{\"units\":\"data\",\"value\":0.4},\"x\":{\"field\":\"x\"},\"y\":{\"field\":\"y\"}},\"id\":\"805ce702-596d-4bdf-bdaf-0d43976c1ade\",\"type\":\"Rect\"},{\"attributes\":{\"data_source\":{\"id\":\"ac1e1319-2914-4c56-b8cb-ea9c0bf7e5f8\",\"type\":\"ColumnDataSource\"},\"glyph\":{\"id\":\"4127b3fe-b39b-4dfb-98bb-cb2ebcec4222\",\"type\":\"Rect\"},\"hover_glyph\":null,\"nonselection_glyph\":null,\"selection_glyph\":null},\"id\":\"441bbed9-06b5-412f-aae0-6f4c3c28a0b6\",\"type\":\"GlyphRenderer\"},{\"attributes\":{\"line_alpha\":{\"value\":0.1},\"line_color\":{\"value\":\"#1f77b4\"},\"line_width\":{\"value\":2},\"x\":{\"field\":\"x\"},\"y\":{\"field\":\"y\"}},\"id\":\"29e43f02-9d3f-4882-a1e6-56e8aa57d993\",\"type\":\"Line\"},{\"attributes\":{\"dilate\":true,\"fill_color\":{\"value\":\"#6baed6\"},\"height\":{\"units\":\"data\",\"value\":0.95},\"line_color\":{\"value\":\"#6baed6\"},\"width\":{\"units\":\"data\",\"value\":0.95},\"x\":{\"field\":\"x\"},\"y\":{\"field\":\"y\"}},\"id\":\"f8281baa-a1b8-433c-add7-bf39fb0d66b8\",\"type\":\"Rect\"},{\"attributes\":{\"plot\":{\"id\":\"6e09026e-4b09-4b34-9efc-54416e6979c5\",\"subtype\":\"Figure\",\"type\":\"Plot\"}},\"id\":\"1d963887-679b-4770-b9fc-e4b48efe987c\",\"type\":\"ResizeTool\"},{\"attributes\":{\"data_source\":{\"id\":\"2233bb9b-0284-4173-b875-faa47b8c3d7b\",\"type\":\"ColumnDataSource\"},\"glyph\":{\"id\":\"8280f180-4b54-4a25-9f29-07ace8f3c2c3\",\"type\":\"Rect\"},\"hover_glyph\":null,\"nonselection_glyph\":null,\"selection_glyph\":null},\"id\":\"5feb5a60-5d52-4f4e-a84a-31b3969a2259\",\"type\":\"GlyphRenderer\"},{\"attributes\":{\"line_color\":{\"value\":\"#1f77b4\"},\"line_width\":{\"value\":2},\"x\":{\"field\":\"x\"},\"y\":{\"field\":\"y\"}},\"id\":\"fa52454b-58ea-44d5-b5ac-02e0c3922b7d\",\"type\":\"Line\"},{\"attributes\":{\"callback\":null,\"column_names\":[\"y\",\"x\",\"values\"],\"data\":{\"Count\":[\"(2684.5, 2723.3]\",\"(2684.5, 2723.3]\",\"(2684.5, 2723.3]\",\"(2684.5, 2723.3]\",\"(2684.5, 2723.3]\",\"(2684.5, 2723.3]\",\"(2684.5, 2723.3]\",\"(2684.5, 2723.3]\",\"(2684.5, 2723.3]\"],\"chart_index\":[{\"Count\":\"(2684.5, 2723.3]\"},{\"Count\":\"(2684.5, 2723.3]\"},{\"Count\":\"(2684.5, 2723.3]\"},{\"Count\":\"(2684.5, 2723.3]\"},{\"Count\":\"(2684.5, 2723.3]\"},{\"Count\":\"(2684.5, 2723.3]\"},{\"Count\":\"(2684.5, 2723.3]\"},{\"Count\":\"(2684.5, 2723.3]\"},{\"Count\":\"(2684.5, 2723.3]\"}],\"values\":[2686,2709,2689,2691,2705,2721,2685,2707,2705],\"x\":[\"J\",\"9\",\"9\",\"K\",\"8\",\"A\",\"2\",\"9\",\"J\"],\"y\":[\"Diamonds\",\"Hearts\",\"Diamonds\",\"Clubs\",\"Hearts\",\"Hearts\",\"Hearts\",\"Spades\",\"Clubs\"]}},\"id\":\"b9c34f26-5fa0-4698-8e25-7bc66c308efa\",\"type\":\"ColumnDataSource\"},{\"attributes\":{\"fill_color\":{\"value\":\"white\"},\"line_color\":{\"value\":\"#1f77b4\"},\"size\":{\"units\":\"screen\",\"value\":8},\"x\":{\"field\":\"x\"},\"y\":{\"field\":\"y\"}},\"id\":\"783fc1eb-e5ba-4ade-9cb8-e380e48d5288\",\"type\":\"Circle\"},{\"attributes\":{},\"id\":\"b7fa303e-f0b3-41c7-92bd-5c976eaec48c\",\"type\":\"CategoricalTicker\"},{\"attributes\":{\"callback\":null,\"factors\":[\"Q\",\"2\",\"J\",\"5\",\"9\",\"6\",\"4\",\"K\",\"A\",\"7\",\"10\",\"8\",\"3\"]},\"id\":\"e89b0c44-546b-4720-80cf-19ee7719b485\",\"type\":\"FactorRange\"},{\"attributes\":{\"fill_alpha\":{\"value\":0.1},\"fill_color\":{\"value\":\"#1f77b4\"},\"line_alpha\":{\"value\":0.1},\"line_color\":{\"value\":\"#1f77b4\"},\"size\":{\"units\":\"screen\",\"value\":8},\"x\":{\"field\":\"x\"},\"y\":{\"field\":\"y\"}},\"id\":\"6fe6b3c2-8b5a-46fd-bdaf-69adaaabca36\",\"type\":\"Circle\"},{\"attributes\":{\"callback\":null,\"column_names\":[\"y\",\"x\",\"values\"],\"data\":{\"Count\":[\"[2567.8, 2606.8]\",\"[2567.8, 2606.8]\",\"[2567.8, 2606.8]\",\"[2567.8, 2606.8]\",\"[2567.8, 2606.8]\",\"[2567.8, 2606.8]\",\"[2567.8, 2606.8]\",\"[2567.8, 2606.8]\",\"[2567.8, 2606.8]\",\"[2567.8, 2606.8]\",\"[2567.8, 2606.8]\",\"[2567.8, 2606.8]\"],\"chart_index\":[{\"Count\":\"[2567.8, 2606.8]\"},{\"Count\":\"[2567.8, 2606.8]\"},{\"Count\":\"[2567.8, 2606.8]\"},{\"Count\":\"[2567.8, 2606.8]\"},{\"Count\":\"[2567.8, 2606.8]\"},{\"Count\":\"[2567.8, 2606.8]\"},{\"Count\":\"[2567.8, 2606.8]\"},{\"Count\":\"[2567.8, 2606.8]\"},{\"Count\":\"[2567.8, 2606.8]\"},{\"Count\":\"[2567.8, 2606.8]\"},{\"Count\":\"[2567.8, 2606.8]\"},{\"Count\":\"[2567.8, 2606.8]\"}],\"values\":[2590,2602,2599,2568,2575,2587,2601,2599,2571,2591,2601,2571],\"x\":[\"Q\",\"A\",\"6\",\"10\",\"5\",\"A\",\"4\",\"3\",\"10\",\"8\",\"4\",\"J\"],\"y\":[\"Diamonds\",\"Spades\",\"Diamonds\",\"Diamonds\",\"Hearts\",\"Diamonds\",\"Diamonds\",\"Diamonds\",\"Clubs\",\"Clubs\",\"Spades\",\"Hearts\"]}},\"id\":\"db9d5f2e-f7b8-4a6c-937d-081f751ea4db\",\"type\":\"ColumnDataSource\"},{\"attributes\":{\"data_source\":{\"id\":\"efff05a8-855b-43d8-9a22-f502750cc46a\",\"type\":\"ColumnDataSource\"},\"glyph\":{\"id\":\"fa52454b-58ea-44d5-b5ac-02e0c3922b7d\",\"type\":\"Line\"},\"hover_glyph\":null,\"nonselection_glyph\":{\"id\":\"29e43f02-9d3f-4882-a1e6-56e8aa57d993\",\"type\":\"Line\"},\"selection_glyph\":null},\"id\":\"c5e1b950-dadb-4553-b63b-218bac181974\",\"type\":\"GlyphRenderer\"},{\"attributes\":{\"callback\":null,\"column_names\":[\"y\",\"x\",\"values\"],\"data\":{\"Count\":[\"(2723.3, 2762.2]\",\"(2723.3, 2762.2]\",\"(2723.3, 2762.2]\"],\"chart_index\":[{\"Count\":\"(2723.3, 2762.2]\"},{\"Count\":\"(2723.3, 2762.2]\"},{\"Count\":\"(2723.3, 2762.2]\"}],\"values\":[2744,2743,2724],\"x\":[\"5\",\"6\",\"8\"],\"y\":[\"Spades\",\"Spades\",\"Diamonds\"]}},\"id\":\"ac1e1319-2914-4c56-b8cb-ea9c0bf7e5f8\",\"type\":\"ColumnDataSource\"},{\"attributes\":{\"fill_alpha\":{\"value\":0.1},\"fill_color\":{\"value\":\"#1f77b4\"},\"height\":{\"field\":\"height\",\"units\":\"data\"},\"line_alpha\":{\"value\":0.1},\"line_color\":{\"value\":\"#1f77b4\"},\"width\":{\"units\":\"data\",\"value\":0.4},\"x\":{\"field\":\"x\"},\"y\":{\"field\":\"y\"}},\"id\":\"f72c814c-3aa9-430d-a0e6-2a35ae128ee1\",\"type\":\"Rect\"},{\"attributes\":{\"callback\":null,\"column_names\":[\"y\",\"x\",\"height\"],\"data\":{\"height\":[32909,27530,3195,1405,264,114,100,16,1,1],\"x\":[0,1,2,3,4,5,6,7,8,9],\"y\":[16454,13765,1597,702,132,57,50,8,0,0]}},\"id\":\"f8958c3b-4f10-46bd-aa58-62cb2601d751\",\"type\":\"ColumnDataSource\"},{\"attributes\":{\"callback\":null,\"factors\":[\"Diamonds\",\"Clubs\",\"Spades\",\"Hearts\"]},\"id\":\"889dfec0-78ca-454c-b002-26b8965f8df5\",\"type\":\"FactorRange\"},{\"attributes\":{\"plot\":{\"id\":\"6e09026e-4b09-4b34-9efc-54416e6979c5\",\"subtype\":\"Figure\",\"type\":\"Plot\"}},\"id\":\"dd9ae939-4d85-4efa-93f8-8f2a67410d66\",\"type\":\"PanTool\"},{\"attributes\":{\"data_source\":{\"id\":\"db9d5f2e-f7b8-4a6c-937d-081f751ea4db\",\"type\":\"ColumnDataSource\"},\"glyph\":{\"id\":\"08d1ca01-e576-409a-bb93-4dc9b7e888f9\",\"type\":\"Rect\"},\"hover_glyph\":null,\"nonselection_glyph\":null,\"selection_glyph\":null},\"id\":\"5c3ed655-89af-406c-a951-f5d3648450b1\",\"type\":\"GlyphRenderer\"},{\"attributes\":{},\"id\":\"6735c4bd-522f-4b87-a4f5-7081a679ed32\",\"type\":\"BasicTicker\"},{\"attributes\":{\"data_source\":{\"id\":\"f8958c3b-4f10-46bd-aa58-62cb2601d751\",\"type\":\"ColumnDataSource\"},\"glyph\":{\"id\":\"805ce702-596d-4bdf-bdaf-0d43976c1ade\",\"type\":\"Rect\"},\"hover_glyph\":null,\"nonselection_glyph\":{\"id\":\"f72c814c-3aa9-430d-a0e6-2a35ae128ee1\",\"type\":\"Rect\"},\"selection_glyph\":null},\"id\":\"727d566d-715f-49f8-8a3c-f47108ff777d\",\"type\":\"GlyphRenderer\"},{\"attributes\":{\"dilate\":true,\"fill_color\":{\"value\":\"#9ecae1\"},\"height\":{\"units\":\"data\",\"value\":0.95},\"line_color\":{\"value\":\"#9ecae1\"},\"width\":{\"units\":\"data\",\"value\":0.95},\"x\":{\"field\":\"x\"},\"y\":{\"field\":\"y\"}},\"id\":\"f4c56c47-fbf5-436f-a956-200fbccfdcfd\",\"type\":\"Rect\"}],\"root_ids\":[\"6e09026e-4b09-4b34-9efc-54416e6979c5\",\"f49434a2-edc1-465b-8370-40297acd3fe2\"]},\"title\":\"Bokeh Application\",\"version\":\"0.11.1\"}};\n",
       "            var render_items = [{\"docid\":\"36ebca98-2734-4d77-a3be-d543f714f577\",\"elementid\":\"f4f540eb-7d6f-49c7-a3f2-5a1f94ccbbca\",\"modelid\":\"f49434a2-edc1-465b-8370-40297acd3fe2\",\"notebook_comms_target\":\"51b4443f-0e58-46e7-bbdf-026314ecdac7\"}];\n",
       "            \n",
       "            Bokeh.embed.embed_items(docs_json, render_items);\n",
       "        });\n",
       "      },\n",
       "      function(Bokeh) {\n",
       "      }\n",
       "    ];\n",
       "  \n",
       "    function run_inline_js() {\n",
       "      for (var i = 0; i < inline_js.length; i++) {\n",
       "        inline_js[i](window.Bokeh);\n",
       "      }\n",
       "    }\n",
       "  \n",
       "    if (window._bokeh_is_loading === 0) {\n",
       "      console.log(\"Bokeh: BokehJS loaded, going straight to plotting\");\n",
       "      run_inline_js();\n",
       "    } else {\n",
       "      load_libs(js_urls, function() {\n",
       "        console.log(\"Bokeh: BokehJS plotting callback run at\", now());\n",
       "        run_inline_js();\n",
       "      });\n",
       "    }\n",
       "  }(this));\n",
       "</script>"
      ]
     },
     "metadata": {},
     "output_type": "display_data"
    },
    {
     "data": {
      "text/html": [
       "<p><code>&lt;Bokeh Notebook handle for <strong>In[20]</strong>&gt;</code></p>"
      ],
      "text/plain": [
       "<bokeh.io._CommsHandle at 0x1068d6090>"
      ]
     },
     "execution_count": 20,
     "metadata": {},
     "output_type": "execute_result"
    }
   ],
   "source": [
    "show(p)"
   ]
  },
  {
   "cell_type": "markdown",
   "metadata": {},
   "source": [
    "Viola! We've successfully built a heatmap showing the distribution of cards in all of the winning one-pair Poker hands. From this visualization, we can see that the **King of Diamonds** occurs mostly in winning hands. Bokeh has various other high-level charts, which can be explored [here](http://bokeh.pydata.org/en/0.11.0/docs/user_guide/charts.html)."
   ]
  }
 ],
 "metadata": {
  "kernelspec": {
   "display_name": "Python 2",
   "language": "python",
   "name": "python2"
  },
  "language_info": {
   "codemirror_mode": {
    "name": "ipython",
    "version": 2
   },
   "file_extension": ".py",
   "mimetype": "text/x-python",
   "name": "python",
   "nbconvert_exporter": "python",
   "pygments_lexer": "ipython2",
   "version": "2.7.9"
  }
 },
 "nbformat": 4,
 "nbformat_minor": 0
}
